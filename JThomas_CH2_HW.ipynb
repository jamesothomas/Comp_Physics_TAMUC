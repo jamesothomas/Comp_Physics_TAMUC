{
 "cells": [
  {
   "cell_type": "markdown",
   "metadata": {},
   "source": [
    "#Chapter 2 Homework\n",
    "##James O. Thomas\n",
    "##Computational Physics"
   ]
  },
  {
   "cell_type": "markdown",
   "metadata": {},
   "source": [
    "##Exercise 2.1: Another ball dropped from a tower\n",
    "\n",
    "A ball is again dropped from a tower of height $h$ with initial velocity zero. Write a program that asks the user to enter the height in meters of the tower and then calculates and prints the time the ball takes until it hits the ground, ignoring air resistance. use your program to calculate the time for a ball dropped from a 100 m high tower."
   ]
  },
  {
   "cell_type": "code",
   "execution_count": 2,
   "metadata": {
    "collapsed": false
   },
   "outputs": [
    {
     "name": "stdout",
     "output_type": "stream",
     "text": [
      "Enter the height of the tower in meters: 100\n",
      "the time it takes for the ball to reach the ground is  4.5175395145262565 seconds\n"
     ]
    }
   ],
   "source": [
    "# exercise 2.1\n",
    "\n",
    "'''\n",
    "A program to calculate the time necessary for a ball dropped from a tower to hit the ground.\n",
    "Inputs:\n",
    "    h, the height the ball is dropped from (in meters)\n",
    "Outputs:\n",
    "    t, the time it takes the ball to reach the ground (in seconds)\n",
    "    \n",
    "James O. Thomas\n",
    "Septerber 2015\n",
    "'''\n",
    "\n",
    "import numpy as np\n",
    "\n",
    "h = float(input(\"Enter the height of the tower in meters: \"))\n",
    "g = 9.8 # m/s^2\n",
    "\n",
    "t = (2*h/g)**0.5\n",
    "\n",
    "print('the time it takes for the ball to reach the ground is ',t,'seconds')"
   ]
  },
  {
   "cell_type": "markdown",
   "metadata": {},
   "source": [
    "The output from running the code above is:\n",
    "\n",
    "Enter the height of the tower in meters: 100\n",
    "\n",
    "the time it takes for the ball to reach the ground is  4.5175395145262565 seconds"
   ]
  },
  {
   "cell_type": "markdown",
   "metadata": {},
   "source": [
    "##Exercise 2.2: Altitude of a satellite\n",
    "\n",
    "\n",
    "A satellite is to be launched ito a circular orbit around the Earth so that it orbits the planet once every $T$ seconds.\n",
    "\n",
    "\n",
    "a) Show that the altitude $h$ above the Earth's surface that the satellite must have is \n",
    "$$h = \\left( \\frac{GMT^2}{4 \\pi ^2} \\right) ^{1/3} - R $$\n",
    "where $G = 6.67 \\times 10^{-11} \\rm{m} ^3 \\rm{kg} ^{-1} \\rm{s}^{-2} $ is Newton's gravitational constant, $M=5.97 \\times 10^{24} \\rm{kg}$ is the mass of the Earth, and $R = 6371 \\rm{km}$ is its radius.\n",
    "\n",
    "b) Write a program that asks the user to enter the desired value of $T$ and then calculates and prints out the correct altitude in meters.\n",
    "\n",
    "c) Use your program to calculate the altitudes of satellites that orbit the Earth once a day (so called \"geosynchronous\" orbit), once every 90 minutes, and once every 45 minutes. What do you conclude from the last of these calculations?\n",
    "\n",
    "d) Technically a geosynchronous satellite is one that orbits the Earth per _sidereal day_, which is 23.93 hours, not 24 hours. why is this? And how much difference will it make to the altitude of the satellite?"
   ]
  },
  {
   "cell_type": "markdown",
   "metadata": {},
   "source": [
    "##Solution to 2.2 a)\n",
    "\n",
    "For a satellite to remain in a stable circular orbit, the gravitational force pulling the satellite down must be equal to a centripetal force.\n",
    "\n",
    "$$ F_{gravity} = \\frac{GMm}{r^2} $$\n",
    "\n",
    "$$F_{centripetal} = \\frac{mV^2}{r}$$\n",
    "\n",
    "setting these equal to each other and cancelling like terms, we get:\n",
    "\n",
    "$$\\frac{GM}{r} = V^2$$\n",
    "\n",
    "For a circular orbit, the distance travelled is $2 \\pi r$. This means that for a given period ($T$), the velocity the satellite travels is\n",
    "\n",
    "$$V = \\frac{\\rm{distance}}{\\rm{time}} = \\frac{2 \\pi r}{T}$$\n",
    "\n",
    "plugging this into the above equation yields:\n",
    "\n",
    "$$\\frac{GM}{r} = \\left( \\frac{2 \\pi r}{T} \\right) ^2$$\n",
    "\n",
    "cancellint like terms and solving for $r$ we get:\n",
    "\n",
    "$$r^3 = \\left( \\frac{GMT^2}{4 \\pi ^2} \\right) $$\n",
    "\n",
    "$$ r = \\left( \\frac{GMT^2}{4 \\pi ^2} \\right) ^{1/3}$$\n",
    "\n",
    "In the above derivation, $r$ is defined as the distance from the center of the Earth to the satellite. Thus:\n",
    "\n",
    "$$r = R + h$$\n",
    "\n",
    "plugging this in, we get:\n",
    "\n",
    "$$R + h = \\left( \\frac{GMT^2}{4 \\pi ^2} \\right) ^{1/3}$$\n",
    "\n",
    "$$h = \\left( \\frac{GMT^2}{4 \\pi ^2} \\right) ^{1/3} - R $$\n",
    "\n",
    "which is exactly what we were looking for."
   ]
  },
  {
   "cell_type": "code",
   "execution_count": 11,
   "metadata": {
    "collapsed": false
   },
   "outputs": [
    {
     "name": "stdout",
     "output_type": "stream",
     "text": [
      "Enter the orbital period (T): 90\n",
      "What Units? [s for seconds, m for minutes, h for hours, d for days]m\n",
      "Orbital period is  5400.0  seconds\n",
      "The altitude of the satellite is  279321.62537285965  meters\n"
     ]
    }
   ],
   "source": [
    "# exercise 2.2 b)\n",
    "'''\n",
    "This is a short program that calculates the altitude of a satellite in a circular orbit.\n",
    "\n",
    "Inputs:\n",
    "    T, the orbital period\n",
    "    units, the units associated with the input orbital period (seconds, minutes, hours, or days)\n",
    "\n",
    "Outputs:\n",
    "    T, the orbital period in seconds\n",
    "    h, the altitude of the satellite necessary for the given orbital period\n",
    "    \n",
    "James O. Thomas\n",
    "September, 2015\n",
    "'''\n",
    "\n",
    "import numpy as np\n",
    "\n",
    "G = 6.67*10**(-11) # m^3ks^-1s^-2; Newton's gravitational constant\n",
    "M = 5.97*10**(24)  # kg; mass of the Earth\n",
    "R = 6371*1000      # m; radius of Earth\n",
    "T = float(input(\"Enter the orbital period (T): \"))\n",
    "units = input(\"What Units? [s for seconds, m for minutes, h for hours, d for days] \")\n",
    "if units == 'm':\n",
    "    T = T*60\n",
    "    print(\"Orbital period is \",T, \" seconds\")\n",
    "elif units =='h':\n",
    "    T = T*60*60\n",
    "    print(\"Orbital period is \", T, \" seconds\")\n",
    "elif units == 'd':\n",
    "    T = T*60*60*24\n",
    "    print(\"Orbital period is \",T,\" seconds\")\n",
    "elif units =='s':\n",
    "    print \n",
    "\n",
    "h = (G*M*T**2/(4*np.pi**2))**(1./3)-R\n",
    "\n",
    "print(\"The altitude of the satellite is \",h,\" meters\")\n",
    "if h < 0:\n",
    "    print(\"This is unphysical!\")"
   ]
  },
  {
   "cell_type": "markdown",
   "metadata": {
    "collapsed": true
   },
   "source": [
    "## Solution to 2.2 c)\n",
    "\n",
    "I am not sure how to display the output when this program is run multiple times. \n",
    "\n",
    "* For an orbital period of 1 day, I get an altitude of 35855910 meters.\n",
    "\n",
    "* For an orbital period of 90 minutes, I get an altitude of 279322 meters.\n",
    "\n",
    "* For an orbital period of 45 minutes, I get an altitude of -2181560 meters. Since the altitude is negative, the satellite would have to orbit inside of the Earth, and that is not physically possible."
   ]
  },
  {
   "cell_type": "markdown",
   "metadata": {},
   "source": [
    "##Solution to 2.2 d)\n",
    "\n",
    "A geosynchronous satellite orbits the Earth once per _sidereal day_ because the satellite is not only moving around the Earth, the Earth is also moving around the sun. More information can be found on the [Wikepedia page](https://en.wikipedia.org/wiki/Sidereal_time).\n",
    "\n",
    "The difference is found by running the program for both times (24 hours and 23.93 hours) then finding the difference\n",
    "\n",
    "$$\\rm{difference} = h_{1\\rm{ day}} - h_{1\\rm{ sidereal day}}$$\n",
    "\n",
    "$$\\rm{difference} = 35855910 \\rm{m} - 35773762 \\rm{m} $$\n",
    "\n",
    "$$\\rm{difference} = 82418 \\rm{m} \\approx 82.4 \\rm{km}$$\n",
    "\n",
    "This is a rather large difference and is more than likely non negligible."
   ]
  },
  {
   "cell_type": "markdown",
   "metadata": {},
   "source": [
    "## Exercise 2.4\n",
    "\n",
    "A spaceship travels from Earth in a straight line at relativistic speed $v$ to another planet $x$ lightyears away. Write a program to ask the user for the value of $x$ and the speed $v$ as a fraction of the speed of light $c$, then print the out the time in years that the spaceship takes to reach its destination (a) in the rest frame of the observer on Earth, and (b) as percieved by a passenger on board the ship. Use your program to calculate the ansers for a planet 10 light years away with $v = 0.99c$."
   ]
  },
  {
   "cell_type": "code",
   "execution_count": 15,
   "metadata": {
    "collapsed": false
   },
   "outputs": [
    {
     "name": "stdout",
     "output_type": "stream",
     "text": [
      "Enter the distance from Earth to the planet in light years 10\n",
      "Enter the speed of the ship as a fraction of c (aka the beta value) the ship travels at 0.99\n",
      "The time taken in the rest frame of the observer on Earth is  10.1010101010101  years.\n",
      "The time taken in the moving frame of reference is  1.42492282623  years.\n"
     ]
    }
   ],
   "source": [
    "# solution to exercise 2.4\n",
    "\n",
    "'''\n",
    "Program to calculate the time percieved by a traveller moving at relativistic speeds\n",
    "\n",
    "Inputs:\n",
    "    x, the distance (in lightyears) from Earth to the distant planet\n",
    "    v, the speed (as a fraction of c) the spaceship travels at\n",
    "Outputs:\n",
    "    t_Earth, the time (in years) of the flight as percieved by an observer on Earth\n",
    "    t_ship, the time (in years) of the flight as percieved by a passenger on board the ship\n",
    "    \n",
    "James O. Thomas\n",
    "September 2015\n",
    "'''\n",
    "\n",
    "import numpy as np\n",
    "\n",
    "x = float(input(\"Enter the distance from Earth to the planet in light years \"))\n",
    "v = float(input(\"Enter the speed of the ship as a fraction of c (aka the beta value) the ship travels at \"))\n",
    "\n",
    "# first find the time in Earth's frame of reference\n",
    "t_Earth = x/v\n",
    "\n",
    "# now find in the moving frame of reference\n",
    "t_ship = t_Earth * np.sqrt(1-v*v)\n",
    "\n",
    "print(\"The time taken in the rest frame of the observer on Earth is \", t_Earth, \" years.\")\n",
    "print(\"The time taken in the moving frame of reference is \", t_ship, \" years.\")\n"
   ]
  },
  {
   "cell_type": "markdown",
   "metadata": {},
   "source": [
    "Running the code above generates the following output:\n",
    "\n",
    "Enter the distance from Earth to the planet in light years 10\n",
    "\n",
    "Enter the speed of the ship as a fraction of c (aka the beta value) the ship travels at 0.99\n",
    "\n",
    "The time taken in the rest frame of the observer on Earth is  10.1010101010101  years.\n",
    "\n",
    "The time taken in the moving frame of reference is  1.42492282623  years."
   ]
  },
  {
   "cell_type": "markdown",
   "metadata": {},
   "source": [
    "## Exercise 2.5: Quantum potential step\n",
    "\n",
    "A well-known quantum mechanics problem involves a particle of mass $m$ that encounters a one-dimensional potential step, like the one shown in the book.\n",
    "\n",
    "The particle with initial kintetic energy $E$ and wavevector $k_1 = \\sqrt{2mE}/\\hbar $ entersfrom the left and encounters a sudden jump on potential energy of height $V$ at a position $x=0$. By solving the Schrodinger equation, one can show that when $E>V$ the particle may either (a) pass the step, in which case it has a lower kinetic energy of $E-V$ on the other side and a correspondingly smaller wavevector of $k_2 = \\sqrt{2m(E-V)}/\\hbar $, or (b) it may be reflected, keeping all of its kinetic energy and an unchanged wavevector but moving in the opposite direction. The probabilities $T$ and $R$ for transmission and reflection are given by\n",
    "\n",
    "$$T=\\frac{4k_1k_2}{(k_1 + k_2)^2}$$\n",
    "\n",
    "$$R = \\left(\\frac{k_1 - k_2}{k_1 + k_2} \\right) ^2 $$\n",
    "\n",
    "Suppose we have a particle with mass equal to the electron mass $ m = 9.11 \\times 10 ^{-31} \\rm{kg} $ and energy 10 eV encountering a potential step of height 9 eV. Write a Python program to compute and print out the transmission and reflection probabilities using the formulas above."
   ]
  },
  {
   "cell_type": "code",
   "execution_count": 13,
   "metadata": {
    "collapsed": false
   },
   "outputs": [
    {
     "name": "stdout",
     "output_type": "stream",
     "text": [
      "the probability for transmission is  0.730126136388\n",
      "the probability for reflection is  0.269873863612\n",
      "the probabilty the particle does something is  1.0  This should equal 1\n"
     ]
    }
   ],
   "source": [
    "# Solution to exercise 2.5\n",
    "'''\n",
    "Program to calculate the transmission and reflection coefficients for a particle encountering a potential barrier.\n",
    "\n",
    "Inputs: none\n",
    "Outputs:\n",
    "    T, the transmission probability\n",
    "    R, the reflection probability\n",
    "    \n",
    "James O. Thomas\n",
    "September 2015\n",
    "'''\n",
    "\n",
    "import numpy as np\n",
    "\n",
    "mass = 9.11*10**(-31)     # kg, the mass of the particle\n",
    "m = mass / 1.79e6         # convert to eV/c\n",
    "E = 10.                   # eV, the energy of the particle\n",
    "V = 9.                    # eV, the height of the potential step\n",
    "hbarc = 0.19732697        # eV*um reduced Planck constant from Wikipedia\n",
    "\n",
    "\n",
    "k_1 = np.sqrt(2*m*E)/hbarc   # wavevectors (in units of 1/micrometer)\n",
    "k_2 = np.sqrt(2*m*(E-V))/hbarc\n",
    "\n",
    "T = (4*k_1*k_2)/(k_1+k_2)**2\n",
    "R = ((k_1-k_2)/(k_1+k_2))**2\n",
    "\n",
    "print(\"the probability for transmission is \", T)\n",
    "print(\"the probability for reflection is \", R)\n",
    "print(\"the probabilty the particle does something is \", T+R, \" This should equal 1\")"
   ]
  },
  {
   "cell_type": "markdown",
   "metadata": {},
   "source": [
    "The output from running the above code:\n",
    "\n",
    "the probability for transmission is  0.730126136388\n",
    "\n",
    "the probability for reflection is  0.269873863612\n",
    "\n",
    "the probabilty the particle does something is  1.0  This should equal 1"
   ]
  },
  {
   "cell_type": "markdown",
   "metadata": {},
   "source": [
    "## Exercise 2.6: Planetary orbits\n",
    "\n",
    "the orbit in space of one body around another, such as a planet around the Sun, need not be circular. In general it takes the form of an ellipse, whth the body sometimes closer in and sometimes further out. If you are given the distance $l_1$ of closest approach that a planet maeks to the Sun, also called its _perihelion_, and its linear velocity $v_1$ at perihelion, then any other property of the orbit can be calculated from these two as follows.\n",
    "\n",
    "a) Kepler's second law tells us that the distance $l_2$ and velocity $v_2$ of the planet at its most distant point, or _aphelion_, satisfy $l_2v_2 = l_1v_1$. At the same time the total energy, kinetic plus gravitational, of the planet with velocity $v$ and distance $r$ from the Sun is given by \n",
    "\n",
    "$$ E = \\frac{1}{2} mv^2 - G \\frac{mM}{r} $$\n",
    "\n",
    "where $m$ is the planet's mass, $M = 1.9891 \\times 10^{30} \\rm{kg}$ is the mass of the Sun, and $G = 6.6738 \\times 10^{-11} \\rm{m}^3 \\rm{kg}^{-1} \\rm{s}^{-2}$ is Newton's gravitational constant. Given that energy must be conserved, shwo that $v_2$ is the smaller root of the quadratic equation\n",
    "\n",
    "$$v_2^2 - \\frac{2GM}{v_1l_1}v_2 - \\left[ v_1^2 - \\frac{2GM}{l_1} \\right] = 0 $$\n",
    "\n",
    "Once we have $v_2$ we can calculate $l_2$ using the relation $l_2 = l_1v_1/v_2$.\n",
    "\n",
    "b) Given the values of $v_1$, $l_1$, and $l_2$, other parameters of the orbit are given by simple formulas that can be derived from kepler's laws and the fact that the orbit is an ellipse:\n",
    "\n",
    "* Semi-major axis: $a = \\frac{1}{2}(l_1 + l_2)$,\n",
    "\n",
    "* Semi-minor axis: $b = \\sqrt{l_1l_2}$,\n",
    "\n",
    "* Orbital period: $T = \\frac{2 \\pi ab}{l_1v_1} $,\n",
    "\n",
    "* Orbital eccentricity: $ e = \\frac{l_2 - l_1}{l_2 + l_1}$.\n",
    "\n",
    "Write a program that askes the user to enter the distance to the sun and velocity at perihelion, then calculates and prints the quantities $l_1$, $v_2$, $T$, and $e$.\n",
    "\n",
    "c) Test your program by having it calculate the properties of the orbits of the Earth (for which $l_1 = 1.4710 \\times 10^{11} \\rm{m}$ and $v_1 = 3.0287 \\times 10^4 \\rm{m/s} $) and Halley's comet ($l_1 = 8.7830 \\times 10^{10} \\rm{m}$ and $v_1 = 5.4529 \\times 10^4 \\rm{m/s} $). Among other things, you should find that the orbital period of the Earth is one year and that of hallye's comet is about 76 years."
   ]
  },
  {
   "cell_type": "markdown",
   "metadata": {},
   "source": [
    "## Solution to 2.6 a)\n",
    "\n",
    "We start with Kepler's law and solve it for $l_2$\n",
    "\n",
    "$$ l_2v_2 = l_1v_1 \\rightarrow l_2 = l_v \\frac{v_1}{v_2} \\dots (1)$$\n",
    "\n",
    "We also know from conservation of energy that\n",
    "\n",
    "$$E_1 = E_2$$\n",
    "\n",
    "plugging in the total energy is the kinetic plus the gravitational potential, we get\n",
    "\n",
    "$$\\frac{1}{2} m v_1^2 - G \\frac{mM}{l_1} = \\frac{1}{2} m v_2^2 - G \\frac{mM}{l_2}$$\n",
    "\n",
    "cancelling the $m$ and multiplying through by 2\n",
    "\n",
    "$$v_1^2 - \\frac{2GM}{l_1} = v_2^2 - \\frac{2GM}{l_2}$$\n",
    "\n",
    "pluggin in eq(1) \n",
    "\n",
    "$$v_1^2 - \\frac{2GM}{l_1} = v_2^2 - \\frac{2GM}{l_1(v_1/v_2)}$$\n",
    "\n",
    "$$v_1^2 - \\frac{2GM}{l_1} = v_2^2 - \\frac{2GM}{l_1v_1}v_2$$\n",
    "\n",
    "rearranging we get what we were looking for\n",
    "\n",
    "$$v_2^2 - \\frac{2GM}{v_1l_1}v_2 - \\left[ v_1^2 - \\frac{2GM}{l_1} \\right] = 0$$\n",
    "\n",
    "It can clearly be seen that one of the roots is $v_2 = v_1$. This would imply a circular orbit. Since we are studying elliptical orbits, the other root is the root we consider."
   ]
  },
  {
   "cell_type": "code",
   "execution_count": 2,
   "metadata": {
    "collapsed": false
   },
   "outputs": [
    {
     "name": "stdout",
     "output_type": "stream",
     "text": [
      "Please input the distance to the sun at perehelion in meters 1.4710e11\n",
      "Please input the speed at perehelion in meters per second 3.0287e4\n",
      "the distance at apehelion is  152027197209.0  meters\n",
      "the speed at apehelion is  29305.3991773  meters per second\n",
      "the orbital period is  1.00022387772  years\n",
      "the orbital eccentricity is  0.0164719131347\n"
     ]
    }
   ],
   "source": [
    "# Solution to 2.6 b)\n",
    "'''\n",
    "Program to calculate values associated with elliptical orbits\n",
    "\n",
    "Inputs:\n",
    "    l_1, the distance to the sun at perihelion\n",
    "    v_1, the speed at perihelion\n",
    "Outputs:\n",
    "    l_2, the distance to the sun at apehelion\n",
    "    v_2, the speed at apehelion\n",
    "    T, the orbital period\n",
    "    e, the orbital eccentricity\n",
    "    \n",
    "James O. Thomas\n",
    "September 2015\n",
    "'''\n",
    "import numpy as np\n",
    "\n",
    "# define some constants\n",
    "M = 1.9891e30  # kg, the mass of the sun\n",
    "G = 6.6738e-11   # m^2kg^-1s^-2, Newton's gravitational constant\n",
    "\n",
    "# user input for values closest to the sun\n",
    "l_1 = float(input(\"Please input the distance to the sun at perehelion in meters \"))\n",
    "v_1 = float(input(\"Please input the speed at perehelion in meters per second \"))\n",
    "\n",
    "# coefficients for quadratic equation\n",
    "a = 1\n",
    "b = - 2*G*M/(l_1*v_1)\n",
    "c = - (v_1*v_1 - 2*G*M/l_1)\n",
    "# print(a,b,c)\n",
    "\n",
    "v_2 = (-b - np.sqrt(b*b-4*a*c))/(2*a)\n",
    "# other_root = (-b + np.sqrt(b*b-4*a*c))/(2*a)   # This should be v_2 = v_1\n",
    "# print(v_2, other_root)\n",
    "\n",
    "# calculate the other values\n",
    "l_2 = l_1*v_1/v_2\n",
    "semi_major_axis = 0.5*(l_1 + l_2)\n",
    "semi_minor_axis = np.sqrt(l_1*l_2)\n",
    "T = (2*np.pi*semi_major_axis*semi_minor_axis)/(l_1*v_1)   # the orbital period\n",
    "e = (l_2 - l_1)/(l_2 + l_1)\n",
    "\n",
    "print(\"the distance at apehelion is \", l_2, \" meters\")\n",
    "print(\"the speed at apehelion is \", v_2, \" meters per second\")\n",
    "print(\"the orbital period is \", T/3600/24/365, \" years\")\n",
    "print(\"the orbital eccentricity is \", e)"
   ]
  },
  {
   "cell_type": "markdown",
   "metadata": {},
   "source": [
    "## Solution to 2.6 c)\n",
    "\n",
    "**Running the code for Earth yields**\n",
    "\n",
    "Please input the distance to the sun at perehelion in meters 1.4710e11\n",
    "\n",
    "Please input the speed at perehelion in meters per second 3.0287e4\n",
    "\n",
    "the distance at apehelion is  152027197209.0  meters\n",
    "\n",
    "the speed at apehelion is  29305.3991773  meters per second\n",
    "\n",
    "the orbital period is  1.00022387772  years\n",
    "\n",
    "the orbital eccentricity is  0.0164719131347\n",
    "\n",
    "**Running the code for Haley's commit yields**\n",
    "\n",
    "Please input the distance to the sun at perehelion in meters 8.7830e10\n",
    "\n",
    "Please input the speed at perehelion in meters per second 5.4529e4\n",
    "\n",
    "the distance at apehelion is  5.28221466088e+12  meters\n",
    "\n",
    "the speed at apehelion is  906.680696919  meters per second\n",
    "\n",
    "the orbital period is  76.0817006547  years\n",
    "\n",
    "the orbital eccentricity is  0.967288912645\n",
    "\n",
    "Both of the orbital periods match what was given in the text pretty closely"
   ]
  },
  {
   "cell_type": "markdown",
   "metadata": {},
   "source": [
    "## Exercise 2.9 The Madelung constant\n",
    "\n",
    "In condensed matter physics the Madelung constant gives the total electric potential felt by an atom in a solid. it depends on the charges on the other atoms nearby and their locations. Consider for instance solid sodium chloride -- table salt. The sodium chloride crystal has atoms arranced on a cubic lattice, bu the alternating sodium and chlorine atoms, the dodium ones having a single positive charge $+e$ and the chlorine ones a single negative charge $-e$, where $e$ is the charge on the electron. If we label each position on the lattice by three integer coordinates $(i,j,k)$, thn the sodium atoms fall at positions where $i+j+k$ is even, and the chlorin atoms at positions where $i+j+k$ is odd.\n",
    "\n",
    "Condsider a sodium atom at the origin, $i=j=k=0$, and let us calculate the Madelung constant. if the spacing of atoms on the lattice is $a$, then the distance from the origin to the atom at position $(i,j,k)$ is \n",
    "$$\\sqrt{(ia)^2 + (ja)^2 + (ka)^2} = a \\sqrt{i^2 + j^2 + k^2}$$\n",
    "\n",
    "and the potential at the orgin created by such an atom is \n",
    "\n",
    "$$ V(i,j,k) = \\pm \\frac{e}{4 \\pi \\epsilon _0 a \\sqrt{i^2 + j^2 + k^2}}$$\n",
    "\n",
    "with $\\epsilon _0$ being the permittivity of the vacuum and the sign of the expression depending on whether $i+j+k$ is even or odd. The total potential felt by the sodium atom is then the sum of this quantity over all other atoms. Let us assume a cubic box around the sodium at the origin. with $L$ atoms in all directions. Then\n",
    "\n",
    "$$V_{\\rm{total}} = \\sum^L_{i,j,k = -L; \\rm{not} i=j=k=0} V(i,j,k) = \\frac{e}{4 \\pi \\epsilon _0 a} M$$\n",
    "\n",
    "where $M$ is the Madelung constant, at least approximately -- technically the Madelung constant is the value of $M$ when $l \\rightarrow \\infty $, but one can get a good approximation just by using a large value of $L$.\n",
    "\n",
    "Write a program to calculate and pring the Madelung constant for sodium chloride use as large a value of $L$ as you can, while still having your program run in reasonable time--say in a minute or less."
   ]
  },
  {
   "cell_type": "code",
   "execution_count": 7,
   "metadata": {
    "collapsed": false
   },
   "outputs": [
    {
     "name": "stdout",
     "output_type": "stream",
     "text": [
      "Enter the L value 100\n",
      "working on row  -100  ( -100  to  100 )\n",
      "working on row  -90  ( -100  to  100 )\n",
      "working on row  -80  ( -100  to  100 )\n",
      "working on row  -70  ( -100  to  100 )\n",
      "working on row  -60  ( -100  to  100 )\n",
      "working on row  -50  ( -100  to  100 )\n",
      "working on row  -40  ( -100  to  100 )\n",
      "working on row  -30  ( -100  to  100 )\n",
      "working on row  -20  ( -100  to  100 )\n",
      "working on row  -10  ( -100  to  100 )\n",
      "working on row  0  ( -100  to  100 )\n",
      "working on row  10  ( -100  to  100 )\n",
      "working on row  20  ( -100  to  100 )\n",
      "working on row  30  ( -100  to  100 )\n",
      "working on row  40  ( -100  to  100 )\n",
      "working on row  50  ( -100  to  100 )\n",
      "working on row  60  ( -100  to  100 )\n",
      "working on row  70  ( -100  to  100 )\n",
      "working on row  80  ( -100  to  100 )\n",
      "working on row  90  ( -100  to  100 )\n",
      "working on row  100  ( -100  to  100 )\n",
      "The approximate Madelung constant for a cube with  100  atoms in all directions is  -1.74181981584\n"
     ]
    }
   ],
   "source": [
    "# Solution to 2.9: The Madelung constant\n",
    "'''\n",
    "Program to calculate the value of the Madelung constant\n",
    "\n",
    "Inputs: \n",
    "    L, the number of atoms in 1 direction of a cubic box\n",
    "Outputs:\n",
    "    M, approximation of the Madelung constant\n",
    "    \n",
    "Future possible improvements:\n",
    "    parallelize the code to run accross multiple cores\n",
    "    \n",
    "James O. Thomas\n",
    "September 2015\n",
    "'''\n",
    "\n",
    "import numpy as np\n",
    "\n",
    "L = int(input(\"Enter the L value \"))\n",
    "\n",
    "i_values = np.arange(-L,L+1,1)\n",
    "j_values = np.arange(-L,L+1,1)\n",
    "k_values = np.arange(-L,L+1,1)\n",
    "\n",
    "# print(i_values)\n",
    "\n",
    "M = 0.0\n",
    "for i in i_values:\n",
    "    if i%10==0:\n",
    "        print(\"working on row \",i,\" (\",-L, \" to \",L,\")\" )      # print something so I know its not frozen\n",
    "    for j in j_values:\n",
    "        for k in k_values:\n",
    "            if (i==0 and j==0 and k==0):\n",
    "                M = M           # do nothing if at the origin\n",
    "            else:\n",
    "                M = M + (-1)**(i+j+k)/np.sqrt((float(i))**2+(float(j))**2+(float(k))**2)\n",
    "\n",
    "print(\"The approximate Madelung constant for a cube with \", L, \" atoms in all directions is \", M)\n"
   ]
  },
  {
   "cell_type": "markdown",
   "metadata": {},
   "source": [
    "Running the code for an L value of 100 gives an approximate Madelung constant of -1.742 which is relatively close to the value of -1.748 found on [Wikipedia](https://en.wikipedia.org/wiki/Madelung_constant)."
   ]
  },
  {
   "cell_type": "markdown",
   "metadata": {},
   "source": [
    "# Exercise 2.10: The semi-emperical mass formula\n",
    "\n",
    "In nuclear physics, the semi-emperical mass formula is a formula for calculating the approximate nuclear binding energy $B$ of an atomic nucleus with atomic number $Z$ and mass number $A$:\n",
    "\n",
    "$$B = a_1 A - a_2 A^{2/3} - a_3 \\frac{Z^2}{A^{1/3}} - a_4 \\frac{(A-2Z)^2}{A} + \\frac{a_5}{A^{1/2}} $$\n",
    "\n",
    "where, in units of millions of electron volts, the constants are $a_1 = 15.67$, $a_2 = 17.23$, $a_3 = 0.75$, $a_4 = 93.2$, and $a_5 = 0$ if $A$ is odd, $a_5 = 12.0$ if $A$ and $Z$ are both even, $a_5=-12.0$ if $A$ is even and $Z$ is odd.\n",
    "\n",
    "**I think that the symmetry ($a_4$) and the pairing ($a_5$) terms have incorrect values. A more realistic approach would have a much smaller symmertry term (around $23$ MeV) and slightly smaller pairing term.\n",
    "\n",
    "a) Write a program that takes as its input the values of $A$ and $Z$, and prints out the binding energy for the corresponding atom. use your program to find the binding energy of an atom with $A = 58$ and $Z = 28$. (Hint: the correct answer is around 490 MeV.)\n",
    "\n",
    "b) Modify your program to print out not the total binding energy $B$, but the binding energy per nucleon, whih is $B/A$.\n",
    "\n",
    "c) Now modify your program so that it takes as input just a single value of the atomic number $Z$ and then goes through all the values of $A$ from $A=Z$ to $A=3Z$, to find the one that has the largest binding energy per nucleon. This is the most stable nucleus with the given atomic number. Have your program pring out the vale of $A$ for this most stable nucleus and the value of the binding energy per nucleon.\n",
    "\n",
    "d) Modify your program again so that, instead of taking $Z$ as the input it runs through all values of $Z$ from 1 to 100 and prings out the most stable value of $A$ for each one. At what value of $Z$ does the maximum binding energy per nucleon occur? (The true answer, in real life, is $Z=28$, which is nickel. You should find that the semi-emperical mass formula gets the answer roughly right, but not exactly.)"
   ]
  },
  {
   "cell_type": "code",
   "execution_count": 20,
   "metadata": {
    "collapsed": false
   },
   "outputs": [
    {
     "name": "stdout",
     "output_type": "stream",
     "text": [
      "What is the mass number (A)? 58\n",
      "What is the atomic number (Z)? 28\n",
      "The Binding energy for A =  58  and Z =  28\n",
      "is  499.1556068013682  MeV\n"
     ]
    }
   ],
   "source": [
    "# Solution to 2.10 a)\n",
    "'''\n",
    "Program to calculate the total binding energy of a nucleus\n",
    "Input:\n",
    "    A, the mass number\n",
    "    Z, the atomic number\n",
    "Output:\n",
    "    B, the total binding energy\n",
    "'''\n",
    "\n",
    "# get the A and Z values\n",
    "A = int(input(\"What is the mass number (A)? \"))\n",
    "Z = int(input(\"What is the atomic number (Z)? \"))\n",
    "\n",
    "# Define the coefficients\n",
    "a_1 = 15.76    # MeV, the volume term\n",
    "a_2 = 17.23    # MeV, the surface term\n",
    "a_3 = 0.75     # MeV, the coulomb term\n",
    "a_4 = 93.2     # MeV, the symmetry term\n",
    "if A%2==1:               # if A is odd\n",
    "    a_5 = 0.0           \n",
    "elif A%2==0 and Z%2==0:  # if A and Z are even\n",
    "    a_5 = 12.0\n",
    "else:                   # if A is even and Z is odd\n",
    "    a_5 = -12.0\n",
    "    \n",
    "B = a_1*A - a_2*A**(2.0/3) - a_3*Z*Z*A**(-1./3) - a_4*(A-2*Z)**2/A + a_5*A**(-0.5)\n",
    "\n",
    "print(\"The Binding energy for A = \", A, \" and Z = \", Z)\n",
    "print(\"is \", B, \" MeV\")\n"
   ]
  },
  {
   "cell_type": "markdown",
   "metadata": {},
   "source": [
    "Running the code above for A = 58 and Z = 28 gives\n",
    "\n",
    "What is the mass number (A)? 58\n",
    "\n",
    "What is the atomic number (Z)? 28\n",
    "\n",
    "The Binding energy for A =  58  and Z =  28\n",
    "\n",
    "is  499.1556068013682  MeV"
   ]
  },
  {
   "cell_type": "code",
   "execution_count": 21,
   "metadata": {
    "collapsed": false
   },
   "outputs": [
    {
     "name": "stdout",
     "output_type": "stream",
     "text": [
      "What is the mass number (A)? 58\n",
      "What is the atomic number (Z)? 28\n",
      "The Binding energy per nucleon for A =  58  and Z =  28\n",
      "is  8.606131151747729  MeV\n"
     ]
    }
   ],
   "source": [
    "# Solution to 2.10 b)\n",
    "'''\n",
    "a slight modification to make the program output the binding energy per nucleon\n",
    "'''\n",
    "\n",
    "# copied from 2.10 a)\n",
    "\n",
    "# get the A and Z values\n",
    "A = int(input(\"What is the mass number (A)? \"))\n",
    "Z = int(input(\"What is the atomic number (Z)? \"))\n",
    "\n",
    "# Define the coefficients\n",
    "a_1 = 15.76    # MeV, the volume term\n",
    "a_2 = 17.23    # MeV, the surface term\n",
    "a_3 = 0.75     # MeV, the coulomb term\n",
    "a_4 = 93.2     # MeV, the symmetry term\n",
    "if A%2==1:               # if A is odd\n",
    "    a_5 = 0.0           \n",
    "elif A%2==0 and Z%2==0:  # if A and Z are even\n",
    "    a_5 = 12.0\n",
    "else:                   # if A is even and Z is odd\n",
    "    a_5 = -12.0\n",
    "    \n",
    "B = a_1*A - a_2*A**(2.0/3) - a_3*Z*Z*A**(-1./3) - a_4*(A-2*Z)**2/A + a_5*A**(-0.5)\n",
    "\n",
    "# slight modification in print statements\n",
    "print(\"The Binding energy per nucleon for A = \", A, \" and Z = \", Z)\n",
    "print(\"is \", B/A, \" MeV\")\n"
   ]
  },
  {
   "cell_type": "markdown",
   "metadata": {},
   "source": [
    "Running the code for A = 58 and Z = 28 gives\n",
    "\n",
    "What is the mass number (A)? 58\n",
    "\n",
    "What is the atomic number (Z)? 28\n",
    "\n",
    "The Binding energy per nucleon for A =  58  and Z =  28\n",
    "\n",
    "is  8.606131151747729  MeV"
   ]
  },
  {
   "cell_type": "code",
   "execution_count": 12,
   "metadata": {
    "collapsed": false
   },
   "outputs": [
    {
     "name": "stdout",
     "output_type": "stream",
     "text": [
      "Please enter the atomic number (Z) 28\n",
      "The most stable nucleus with a charge number of  28\n",
      "has a mass number (A) of  58\n",
      "and a binding energy per nucleon of  8.60613115175  MeV\n"
     ]
    }
   ],
   "source": [
    "# Solution to 2.10 c)\n",
    "'''\n",
    "Program to calculate the most stable nucleus for a given Z number\n",
    "as calculated by the semi-emperical mass formula\n",
    "\n",
    "Inputs:\n",
    "    Z, the atomic number\n",
    "Outputs:\n",
    "    A, the mass number for the most stable nucleus\n",
    "    BperA, the binding energy per nucleon for the most stable nucleus\n",
    "    \n",
    "James O. Thomas\n",
    "September 2015\n",
    "'''\n",
    "\n",
    "import numpy as np\n",
    "\n",
    "def Binding_Energy(A,Z):\n",
    "    # Define the coefficients\n",
    "    a_1 = 15.76    # MeV, the volume term\n",
    "    a_2 = 17.23    # MeV, the surface term\n",
    "    a_3 = 0.75     # MeV, the coulomb term\n",
    "    a_4 = 93.2     # MeV, the symmetry term\n",
    "    if A%2==1:               # if A is odd\n",
    "        a_5 = 0.0           \n",
    "    elif A%2==0 and Z%2==0:  # if A and Z are even\n",
    "        a_5 = 12.0\n",
    "    else:                   # if A is even and Z is odd\n",
    "        a_5 = -12.0\n",
    "    \n",
    "    B = a_1*A - a_2*A**(2.0/3) - a_3*Z*Z*A**(-1./3) - a_4*(A-2*Z)**2/A + a_5*A**(-0.5)\n",
    "    BperA = B/A\n",
    "    return BperA\n",
    "\n",
    "Z = int(input(\"Please enter the atomic number (Z) \"))\n",
    "\n",
    "A_array = np.arange(Z,3*Z+1,1)\n",
    "\n",
    "B_value = 0\n",
    "A_value = 0\n",
    "\n",
    "for A in A_array:\n",
    "    B_test = Binding_Energy(A,Z)\n",
    "    if B_test > B_value:\n",
    "        B_value = B_test\n",
    "        A_value = A\n",
    "        \n",
    "print(\"The most stable nucleus with a charge number of \",Z)\n",
    "print(\"has a mass number (A) of \", A_value)\n",
    "print(\"and a binding energy per nucleon of \", B_value, \" MeV\")"
   ]
  },
  {
   "cell_type": "code",
   "execution_count": 13,
   "metadata": {
    "collapsed": false
   },
   "outputs": [
    {
     "name": "stdout",
     "output_type": "stream",
     "text": [
      "The most stable nucleus with Z number of  1  has an A value of  0\n",
      "The most stable nucleus with Z number of  2  has an A value of  4\n",
      "The most stable nucleus with Z number of  3  has an A value of  6\n",
      "The most stable nucleus with Z number of  4  has an A value of  8\n",
      "The most stable nucleus with Z number of  5  has an A value of  10\n",
      "The most stable nucleus with Z number of  6  has an A value of  12\n",
      "The most stable nucleus with Z number of  7  has an A value of  15\n",
      "The most stable nucleus with Z number of  8  has an A value of  16\n",
      "The most stable nucleus with Z number of  9  has an A value of  19\n",
      "The most stable nucleus with Z number of  10  has an A value of  20\n",
      "The most stable nucleus with Z number of  11  has an A value of  23\n",
      "The most stable nucleus with Z number of  12  has an A value of  24\n",
      "The most stable nucleus with Z number of  13  has an A value of  27\n",
      "The most stable nucleus with Z number of  14  has an A value of  28\n",
      "The most stable nucleus with Z number of  15  has an A value of  31\n",
      "The most stable nucleus with Z number of  16  has an A value of  32\n",
      "The most stable nucleus with Z number of  17  has an A value of  35\n",
      "The most stable nucleus with Z number of  18  has an A value of  36\n",
      "The most stable nucleus with Z number of  19  has an A value of  39\n",
      "The most stable nucleus with Z number of  20  has an A value of  41\n",
      "The most stable nucleus with Z number of  21  has an A value of  43\n",
      "The most stable nucleus with Z number of  22  has an A value of  46\n",
      "The most stable nucleus with Z number of  23  has an A value of  47\n",
      "The most stable nucleus with Z number of  24  has an A value of  50\n",
      "The most stable nucleus with Z number of  25  has an A value of  51\n",
      "The most stable nucleus with Z number of  26  has an A value of  54\n",
      "The most stable nucleus with Z number of  27  has an A value of  55\n",
      "The most stable nucleus with Z number of  28  has an A value of  58\n",
      "The most stable nucleus with Z number of  29  has an A value of  59\n",
      "The most stable nucleus with Z number of  30  has an A value of  62\n",
      "The most stable nucleus with Z number of  31  has an A value of  63\n",
      "The most stable nucleus with Z number of  32  has an A value of  66\n",
      "The most stable nucleus with Z number of  33  has an A value of  69\n",
      "The most stable nucleus with Z number of  34  has an A value of  70\n",
      "The most stable nucleus with Z number of  35  has an A value of  73\n",
      "The most stable nucleus with Z number of  36  has an A value of  74\n",
      "The most stable nucleus with Z number of  37  has an A value of  77\n",
      "The most stable nucleus with Z number of  38  has an A value of  78\n",
      "The most stable nucleus with Z number of  39  has an A value of  81\n",
      "The most stable nucleus with Z number of  40  has an A value of  82\n",
      "The most stable nucleus with Z number of  41  has an A value of  85\n",
      "The most stable nucleus with Z number of  42  has an A value of  86\n",
      "The most stable nucleus with Z number of  43  has an A value of  89\n",
      "The most stable nucleus with Z number of  44  has an A value of  92\n",
      "The most stable nucleus with Z number of  45  has an A value of  93\n",
      "The most stable nucleus with Z number of  46  has an A value of  96\n",
      "The most stable nucleus with Z number of  47  has an A value of  97\n",
      "The most stable nucleus with Z number of  48  has an A value of  100\n",
      "The most stable nucleus with Z number of  49  has an A value of  101\n",
      "The most stable nucleus with Z number of  50  has an A value of  104\n",
      "The most stable nucleus with Z number of  51  has an A value of  105\n",
      "The most stable nucleus with Z number of  52  has an A value of  108\n",
      "The most stable nucleus with Z number of  53  has an A value of  111\n",
      "The most stable nucleus with Z number of  54  has an A value of  112\n",
      "The most stable nucleus with Z number of  55  has an A value of  115\n",
      "The most stable nucleus with Z number of  56  has an A value of  116\n",
      "The most stable nucleus with Z number of  57  has an A value of  119\n",
      "The most stable nucleus with Z number of  58  has an A value of  120\n",
      "The most stable nucleus with Z number of  59  has an A value of  123\n",
      "The most stable nucleus with Z number of  60  has an A value of  124\n",
      "The most stable nucleus with Z number of  61  has an A value of  127\n",
      "The most stable nucleus with Z number of  62  has an A value of  130\n",
      "The most stable nucleus with Z number of  63  has an A value of  131\n",
      "The most stable nucleus with Z number of  64  has an A value of  134\n",
      "The most stable nucleus with Z number of  65  has an A value of  135\n",
      "The most stable nucleus with Z number of  66  has an A value of  138\n",
      "The most stable nucleus with Z number of  67  has an A value of  139\n",
      "The most stable nucleus with Z number of  68  has an A value of  142\n",
      "The most stable nucleus with Z number of  69  has an A value of  143\n",
      "The most stable nucleus with Z number of  70  has an A value of  146\n",
      "The most stable nucleus with Z number of  71  has an A value of  149\n",
      "The most stable nucleus with Z number of  72  has an A value of  150\n",
      "The most stable nucleus with Z number of  73  has an A value of  153\n",
      "The most stable nucleus with Z number of  74  has an A value of  154\n",
      "The most stable nucleus with Z number of  75  has an A value of  157\n",
      "The most stable nucleus with Z number of  76  has an A value of  158\n",
      "The most stable nucleus with Z number of  77  has an A value of  161\n",
      "The most stable nucleus with Z number of  78  has an A value of  164\n",
      "The most stable nucleus with Z number of  79  has an A value of  165\n",
      "The most stable nucleus with Z number of  80  has an A value of  168\n",
      "The most stable nucleus with Z number of  81  has an A value of  169\n",
      "The most stable nucleus with Z number of  82  has an A value of  172\n",
      "The most stable nucleus with Z number of  83  has an A value of  173\n",
      "The most stable nucleus with Z number of  84  has an A value of  176\n",
      "The most stable nucleus with Z number of  85  has an A value of  179\n",
      "The most stable nucleus with Z number of  86  has an A value of  180\n",
      "The most stable nucleus with Z number of  87  has an A value of  183\n",
      "The most stable nucleus with Z number of  88  has an A value of  184\n",
      "The most stable nucleus with Z number of  89  has an A value of  187\n",
      "The most stable nucleus with Z number of  90  has an A value of  190\n",
      "The most stable nucleus with Z number of  91  has an A value of  191\n",
      "The most stable nucleus with Z number of  92  has an A value of  194\n",
      "The most stable nucleus with Z number of  93  has an A value of  195\n",
      "The most stable nucleus with Z number of  94  has an A value of  198\n",
      "The most stable nucleus with Z number of  95  has an A value of  199\n",
      "The most stable nucleus with Z number of  96  has an A value of  202\n",
      "The most stable nucleus with Z number of  97  has an A value of  205\n",
      "The most stable nucleus with Z number of  98  has an A value of  206\n",
      "The most stable nucleus with Z number of  99  has an A value of  209\n",
      "The most stable nucleus with Z number of  100  has an A value of  210\n",
      "The Z number with the overall lowest binding energy pur nucleon is  24\n"
     ]
    }
   ],
   "source": [
    "# Solution to 2.10 d)\n",
    "'''\n",
    "Program calculates the most stable nucleus with 1<=Z<=100 and Z<=A<=3Z\n",
    "\n",
    "Input:\n",
    "    none\n",
    "Output:\n",
    "    A value for the most stable configuration at each Z value as well as the Z value with the overall\n",
    "    highest binding energy per nucleon\n",
    "    \n",
    "James O. Thomas\n",
    "September 2015\n",
    "'''\n",
    "\n",
    "import numpy as np\n",
    "\n",
    "def Binding_Energy(A,Z):\n",
    "    # Define the coefficients\n",
    "    a_1 = 15.76    # MeV, the volume term\n",
    "    a_2 = 17.23    # MeV, the surface term\n",
    "    a_3 = 0.75     # MeV, the coulomb term\n",
    "    a_4 = 93.2     # MeV, the symmetry term\n",
    "    if A%2==1:               # if A is odd\n",
    "        a_5 = 0.0           \n",
    "    elif A%2==0 and Z%2==0:  # if A and Z are even\n",
    "        a_5 = 12.0\n",
    "    else:                   # if A is even and Z is odd\n",
    "        a_5 = -12.0\n",
    "    \n",
    "    B = a_1*A - a_2*A**(2.0/3) - a_3*Z*Z*A**(-1./3) - a_4*(A-2*Z)**2/A + a_5*A**(-0.5)\n",
    "    BperA = B/A\n",
    "    return BperA\n",
    "\n",
    "Z_values = np.arange(1,101,1) # the Z values\n",
    "Z_most_stable = 0\n",
    "B_most_stable = 0\n",
    "A_most_stable = 0\n",
    "\n",
    "for Z in Z_values:\n",
    "    B = 0\n",
    "    A_stable = 0\n",
    "    for A in np.arange(Z,3*Z+1,1):\n",
    "        B_test = Binding_Energy(A,Z)\n",
    "        if B_test > B:\n",
    "            B = B_test\n",
    "            A_stable = A\n",
    "    print(\"The most stable nucleus with Z number of \",Z,\" has an A value of \",A_stable)\n",
    "    if B > B_most_stable:\n",
    "        Z_most_stable = Z\n",
    "        A_most_stable = A_stable\n",
    "        B_most_stable = B\n",
    "print(\"The Z number with the overall lowest binding energy pur nucleon is \",Z_most_stable)\n",
    "        \n",
    "        "
   ]
  },
  {
   "cell_type": "markdown",
   "metadata": {},
   "source": [
    "The above code gives the Z number where the maximum binding energy occurs as 24, which is close to the value of 28."
   ]
  },
  {
   "cell_type": "markdown",
   "metadata": {},
   "source": [
    "## Exercise 2.11: Binomial coefficients\n",
    "\n",
    "The binomial coefficient $\\left( ^n _k \\right) $ is an integer equal to\n",
    "\n",
    "$$\\left(^n _k \\right) = \\frac{n!}{k!(n-k)!} = \\frac{n \\times (n-1) \\times (n-2) \\times \\dots \\times (n-k+1)}{1 \\times 2 \\times \\dots \\times k} $$\n",
    "\n",
    "when $k \\ge 1$, or $ \\left( ^n _0 \\right) = 1$ when $k=0$.\n",
    "\n",
    "a) using this form for the binomial coefficient, write a Python user-defined function binomial(n,k) that calculates the binomial coefficient for given $n$ and $k$. Make sure your function returns the answer in the form of an integer (not a float) and gives the correct value of 1 for the case where $k=0$.\n",
    "\n",
    "b) Using your function write a program to pring out the first 20 lines of \"Pascal's triangle.\" the $n$th line of Pascal's triangle contains $n+1$ numbers, which are the coefficients $\\left( ^n _0 \\right) $, $\\left( ^n_1 \\right) $, and so on up to $\\left( ^n_n \\right) $. Thus the first few lines are\n",
    "\n",
    "1 1\n",
    "\n",
    "1 2 1\n",
    "\n",
    "1 3 3 1\n",
    "\n",
    "1 4 6 4 1\n",
    "\n",
    "c) the probability that an unbiased coin, tossed $n$ times, will come up heads $k$ times is $\\left( ^n _k \\right) /2^n $. Write a program to calculate (a) the total probability that a coin tossed 100 times comes up heads exactly 60 times, and (b) the probability that it comes up heads 60 or more times."
   ]
  },
  {
   "cell_type": "code",
   "execution_count": 1,
   "metadata": {
    "collapsed": false
   },
   "outputs": [
    {
     "name": "stdout",
     "output_type": "stream",
     "text": [
      "1 <class 'int'>\n"
     ]
    }
   ],
   "source": [
    "'''\n",
    "Exercise 2.11 a)\n",
    "user defined function to calculate binomial coefficients\n",
    "\n",
    "James O. Thomas\n",
    "September 2015\n",
    "'''\n",
    "\n",
    "import numpy as np\n",
    "\n",
    "def binomial(n,k):\n",
    "    if k == 0:\n",
    "        return 1\n",
    "    else:\n",
    "        numerator = 1\n",
    "        denominator = 1\n",
    "        # the odd stopping points for the iterators are because np.arange does not include the stop\n",
    "        for i in np.arange(n,n-k,-1): \n",
    "            numerator = numerator*i\n",
    "        for i in np.arange(1,k+1,1):\n",
    "            denominator = denominator*i\n",
    "        coefficient = int(numerator/denominator)\n",
    "        return coefficient\n",
    " \n",
    "x = binomial(4,4)\n",
    "print(x, type(x))"
   ]
  },
  {
   "cell_type": "markdown",
   "metadata": {},
   "source": [
    "The code above returns the correct values and data types for the first 4 rows of pascals triangle"
   ]
  },
  {
   "cell_type": "code",
   "execution_count": 54,
   "metadata": {
    "collapsed": false
   },
   "outputs": [
    {
     "name": "stdout",
     "output_type": "stream",
     "text": [
      "[1 1]\n",
      "[1 2 1]\n",
      "[1 3 3 1]\n",
      "[1 4 6 4 1]\n",
      "[ 1  5 10 10  5  1]\n",
      "[ 1  6 15 20 15  6  1]\n",
      "[ 1  7 21 35 35 21  7  1]\n",
      "[ 1  8 28 56 70 56 28  8  1]\n",
      "[  1   9  36  84 126 126  84  36   9   1]\n",
      "[  1  10  45 120 210 252 210 120  45  10   1]\n",
      "[  1  11  55 165 330 462 462 330 165  55  11   1]\n",
      "[  1  12  66 220 495 792 924 792 495 220  66  12   1]\n",
      "[   1   13   78  286  715 1287 1716 1716 1287  715  286  -29    4    1]\n",
      "[   1   14   91  364 1001 2002 3003 3432 3003 2002 -182   41    1    0    1]\n",
      "[   1   15  105  455 1365 3003 5005 6435 6435 5005 -547  -33   -2    0    1\n",
      "    1]\n",
      "[    1    16   120   560  1820  4368  8008 11440 12870  -395  -277   -43\n",
      "     0     0     0     0     1]\n",
      "[    1    17   136   680  2380  6188 12376 19448 24310   638   510     2\n",
      "     1     0     1     0     0     1]\n",
      "[    1    18   153   816  3060  8568 18564 31824 43758  1276   -34   -25\n",
      "     3     0     0     0     0     3     1]\n",
      "[     1     19    171    969   3876  11628  27132  50388 -30940  -2308\n",
      "     58     48     -3      0     -1      0      0      7      0      1]\n",
      "[    1    20   190  1140  4845 15504 38760 77520 19447  2259   117     0\n",
      "     0     0     0     0     0    -6    -1   -19     1]\n"
     ]
    },
    {
     "name": "stderr",
     "output_type": "stream",
     "text": [
      "/home/james/anaconda3/lib/python3.4/site-packages/IPython/kernel/__main__.py:27: RuntimeWarning: overflow encountered in long_scalars\n",
      "/home/james/anaconda3/lib/python3.4/site-packages/IPython/kernel/__main__.py:29: RuntimeWarning: overflow encountered in long_scalars\n"
     ]
    }
   ],
   "source": [
    "'''\n",
    "Exercise 2.11 b)\n",
    "user defined function to calculate binomial coefficients\n",
    "This program will calculate and print the first 20 rows of Pascal's triangle\n",
    "\n",
    "the first 4 rows of the output should be\n",
    "\n",
    "[1 1]\n",
    "[1 2 1]\n",
    "[1 3 3 1]\n",
    "[1 4 6 4 1]\n",
    "\n",
    "James O. Thomas\n",
    "September 2015\n",
    "'''\n",
    "# this part is copy and pasted from part a\n",
    "import numpy as np\n",
    "\n",
    "def binomial(n,k):\n",
    "    if k == 0:\n",
    "        return 1\n",
    "    else:\n",
    "        numerator = 1\n",
    "        denominator = 1\n",
    "        # the odd stopping points for the iterators are because np.arange does not include the stop\n",
    "        for i in np.arange(n,n-k,-1): \n",
    "            numerator = numerator*i\n",
    "        for i in np.arange(1,k+1,1):\n",
    "            denominator = denominator*i\n",
    "        coefficient = int(numerator/denominator)\n",
    "        return coefficient\n",
    "\n",
    "# this is what I added for part b)\n",
    "for i in np.arange(1,21,1):\n",
    "    js = np.zeros(i+1, dtype=int)\n",
    "    for j in np.arange(0,i+1):\n",
    "        js[j] = binomial(i,j)\n",
    "    print(js)\n",
    "        \n",
    "\n"
   ]
  },
  {
   "cell_type": "markdown",
   "metadata": {},
   "source": [
    "The above code generates the proper values for the first 20 rows of Pascal's triangle. However, there are runtime warnings indicate that I am reaching the limit of what the INT32 data type can accommodate."
   ]
  },
  {
   "cell_type": "code",
   "execution_count": 3,
   "metadata": {
    "collapsed": false
   },
   "outputs": [
    {
     "name": "stdout",
     "output_type": "stream",
     "text": [
      "0.010843866711637985\n"
     ]
    }
   ],
   "source": [
    "# 2.11 c) part (a)\n",
    "'''\n",
    "This program will calculate the probability that an unbiased coin tossed 100 times will land up exactly 60 times\n",
    "\n",
    "James O. Thomas\n",
    "September 2015\n",
    "'''\n",
    "\n",
    "# this part is copied from part a)\n",
    "\n",
    "import numpy as np\n",
    "\n",
    "def binomial(n,k):\n",
    "    if k == 0:\n",
    "        return 1\n",
    "    else:\n",
    "        numerator = 1.0       # I had do drop the integer demands because this problem has numbers\n",
    "        denominator = 1.0     # larger than what INT32 can handle\n",
    "        # the odd stopping points for the iterators are because np.arange does not include the stop\n",
    "        for i in np.arange(n,n-k,-1): \n",
    "            numerator = numerator*i\n",
    "        for i in np.arange(1,k+1,1):\n",
    "            denominator = denominator*i\n",
    "        coefficient = (numerator/denominator)\n",
    "        return coefficient\n",
    "    \n",
    "# This is what was added for part c) (a)\n",
    "\n",
    "n = 100 # the total number of coin tosses\n",
    "k = 60  # the number of times the coin is to land heads up\n",
    "\n",
    "probability = binomial(n,k)/2**n   # the function from the problem statement; \n",
    "                                     # equavalent to the number of microstates in the macrostate divided by the\n",
    "                                     # total number of microstates in all macrostates\n",
    "        \n",
    "print(probability)"
   ]
  },
  {
   "cell_type": "markdown",
   "metadata": {},
   "source": [
    "the probability is about 0.010843 (or 1.08%) that a coin tossed 100 times comes up heads exacly 60 times."
   ]
  },
  {
   "cell_type": "code",
   "execution_count": 12,
   "metadata": {
    "collapsed": false
   },
   "outputs": [
    {
     "name": "stdout",
     "output_type": "stream",
     "text": [
      "0.028443966820490385\n"
     ]
    }
   ],
   "source": [
    "# 2.11 c) part (a)\n",
    "'''\n",
    "This program will calculate the probability that an unbiased coin tossed 100 times will land up exactly 60 times\n",
    "\n",
    "James O. Thomas\n",
    "September 2015\n",
    "'''\n",
    "\n",
    "# this part is copied from part a)\n",
    "\n",
    "import numpy as np\n",
    "\n",
    "def binomial(n,k):\n",
    "    if k == 0:\n",
    "        return 1\n",
    "    else:\n",
    "        numerator = 1.0       # I had do drop the integer demands because this problem has numbers\n",
    "        denominator = 1.0     # larger than what INT32 can handle\n",
    "        # the odd stopping points for the iterators are because np.arange does not include the stop\n",
    "        for i in np.arange(n,n-k,-1): \n",
    "            numerator = numerator*i\n",
    "        for i in np.arange(1,k+1,1):\n",
    "            denominator = denominator*i\n",
    "        coefficient = (numerator/denominator)\n",
    "        return coefficient\n",
    "    \n",
    "# This is what was added for part c) (b)\n",
    "\n",
    "n = 100 # the total number of coin tosses\n",
    "k = np.arange(60,101,1)\n",
    "\n",
    "micro_state_sum = 0   \n",
    "                                     \n",
    "for i in k:\n",
    "    micro_state_sum = micro_state_sum + binomial(n,i)\n",
    "    \n",
    "probability = micro_state_sum/2**n\n",
    "\n",
    "print(probability)"
   ]
  },
  {
   "cell_type": "markdown",
   "metadata": {},
   "source": [
    "When running the above code, the calculated probability is about 0.02844 (2.844%) that the coin comes up heads 60 or more times."
   ]
  },
  {
   "cell_type": "markdown",
   "metadata": {},
   "source": [
    "##Exercise 2.12: Prime numbers\n",
    "\n",
    "The program in Example 2.8 is not a very efficient way of calculating prime numbers: it checks each number to see if it is divisible by an number less than it. we can develop a much faster program for prime numbers by making use of the following observations:\n",
    "\n",
    "a) A number $n$ is prime if it has no prime factors less than $n$. Hence we only need to check if it is divisible by other primes.\n",
    "\n",
    "b) If a number $n$ is non-prime, having a factor $r$, then $n = rs$, where $s$ is also a factor. If $r \\ge \\sqrt{n} $ then $n = rs \\ge \\sqrt{n}s$, which implies that $s \\le \\sqrt{n}$. In other words, any non-prime must have factors, and hence also prime factors, less than or equal to $\\sqrt{n}$. Thus to determine if a number is prime we have to check its prime factors only up to and including $\\sqrt{n}$ -- if there are none then the number is prime.\n",
    "\n",
    "c) If we find even a single prime factor less than $\\sqrt{n} $ then we know that the number is non-prime, and hence there is no need to check any further -- we can abandon this number and move on to something else.\n",
    "\n",
    "Write a Python program that finds all the primes up to ten thousand. Create a list to store the primes, which starts out with just one prime number 2 in it. Then for each number $n$ from 3 to 10000 check whether the number is divisible by any of the primes in the list up to and including $\\sqrt{n}$. As soon as you find a single prime factor you can stop checking the rest of them -- you know $n$ is not a prime. If you find no prime factors $\\sqrt{n}$ or less then $n$ is prime and you should add it to the list. You can print out the list all in one go at the end of the program, or you can print out the individual number as you find them."
   ]
  },
  {
   "cell_type": "code",
   "execution_count": 15,
   "metadata": {
    "collapsed": false
   },
   "outputs": [
    {
     "name": "stdout",
     "output_type": "stream",
     "text": [
      "[2, 3, 5, 7, 11, 13, 17, 19, 23, 29, 31, 37, 41, 43, 47, 53, 59, 61, 67, 71, 73, 79, 83, 89, 97, 101, 103, 107, 109, 113, 127, 131, 137, 139, 149, 151, 157, 163, 167, 173, 179, 181, 191, 193, 197, 199, 211, 223, 227, 229, 233, 239, 241, 251, 257, 263, 269, 271, 277, 281, 283, 293, 307, 311, 313, 317, 331, 337, 347, 349, 353, 359, 367, 373, 379, 383, 389, 397, 401, 409, 419, 421, 431, 433, 439, 443, 449, 457, 461, 463, 467, 479, 487, 491, 499, 503, 509, 521, 523, 541, 547, 557, 563, 569, 571, 577, 587, 593, 599, 601, 607, 613, 617, 619, 631, 641, 643, 647, 653, 659, 661, 673, 677, 683, 691, 701, 709, 719, 727, 733, 739, 743, 751, 757, 761, 769, 773, 787, 797, 809, 811, 821, 823, 827, 829, 839, 853, 857, 859, 863, 877, 881, 883, 887, 907, 911, 919, 929, 937, 941, 947, 953, 967, 971, 977, 983, 991, 997, 1009, 1013, 1019, 1021, 1031, 1033, 1039, 1049, 1051, 1061, 1063, 1069, 1087, 1091, 1093, 1097, 1103, 1109, 1117, 1123, 1129, 1151, 1153, 1163, 1171, 1181, 1187, 1193, 1201, 1213, 1217, 1223, 1229, 1231, 1237, 1249, 1259, 1277, 1279, 1283, 1289, 1291, 1297, 1301, 1303, 1307, 1319, 1321, 1327, 1361, 1367, 1373, 1381, 1399, 1409, 1423, 1427, 1429, 1433, 1439, 1447, 1451, 1453, 1459, 1471, 1481, 1483, 1487, 1489, 1493, 1499, 1511, 1523, 1531, 1543, 1549, 1553, 1559, 1567, 1571, 1579, 1583, 1597, 1601, 1607, 1609, 1613, 1619, 1621, 1627, 1637, 1657, 1663, 1667, 1669, 1693, 1697, 1699, 1709, 1721, 1723, 1733, 1741, 1747, 1753, 1759, 1777, 1783, 1787, 1789, 1801, 1811, 1823, 1831, 1847, 1861, 1867, 1871, 1873, 1877, 1879, 1889, 1901, 1907, 1913, 1931, 1933, 1949, 1951, 1973, 1979, 1987, 1993, 1997, 1999, 2003, 2011, 2017, 2027, 2029, 2039, 2053, 2063, 2069, 2081, 2083, 2087, 2089, 2099, 2111, 2113, 2129, 2131, 2137, 2141, 2143, 2153, 2161, 2179, 2203, 2207, 2213, 2221, 2237, 2239, 2243, 2251, 2267, 2269, 2273, 2281, 2287, 2293, 2297, 2309, 2311, 2333, 2339, 2341, 2347, 2351, 2357, 2371, 2377, 2381, 2383, 2389, 2393, 2399, 2411, 2417, 2423, 2437, 2441, 2447, 2459, 2467, 2473, 2477, 2503, 2521, 2531, 2539, 2543, 2549, 2551, 2557, 2579, 2591, 2593, 2609, 2617, 2621, 2633, 2647, 2657, 2659, 2663, 2671, 2677, 2683, 2687, 2689, 2693, 2699, 2707, 2711, 2713, 2719, 2729, 2731, 2741, 2749, 2753, 2767, 2777, 2789, 2791, 2797, 2801, 2803, 2819, 2833, 2837, 2843, 2851, 2857, 2861, 2879, 2887, 2897, 2903, 2909, 2917, 2927, 2939, 2953, 2957, 2963, 2969, 2971, 2999, 3001, 3011, 3019, 3023, 3037, 3041, 3049, 3061, 3067, 3079, 3083, 3089, 3109, 3119, 3121, 3137, 3163, 3167, 3169, 3181, 3187, 3191, 3203, 3209, 3217, 3221, 3229, 3251, 3253, 3257, 3259, 3271, 3299, 3301, 3307, 3313, 3319, 3323, 3329, 3331, 3343, 3347, 3359, 3361, 3371, 3373, 3389, 3391, 3407, 3413, 3433, 3449, 3457, 3461, 3463, 3467, 3469, 3491, 3499, 3511, 3517, 3527, 3529, 3533, 3539, 3541, 3547, 3557, 3559, 3571, 3581, 3583, 3593, 3607, 3613, 3617, 3623, 3631, 3637, 3643, 3659, 3671, 3673, 3677, 3691, 3697, 3701, 3709, 3719, 3727, 3733, 3739, 3761, 3767, 3769, 3779, 3793, 3797, 3803, 3821, 3823, 3833, 3847, 3851, 3853, 3863, 3877, 3881, 3889, 3907, 3911, 3917, 3919, 3923, 3929, 3931, 3943, 3947, 3967, 3989, 4001, 4003, 4007, 4013, 4019, 4021, 4027, 4049, 4051, 4057, 4073, 4079, 4091, 4093, 4099, 4111, 4127, 4129, 4133, 4139, 4153, 4157, 4159, 4177, 4201, 4211, 4217, 4219, 4229, 4231, 4241, 4243, 4253, 4259, 4261, 4271, 4273, 4283, 4289, 4297, 4327, 4337, 4339, 4349, 4357, 4363, 4373, 4391, 4397, 4409, 4421, 4423, 4441, 4447, 4451, 4457, 4463, 4481, 4483, 4493, 4507, 4513, 4517, 4519, 4523, 4547, 4549, 4561, 4567, 4583, 4591, 4597, 4603, 4621, 4637, 4639, 4643, 4649, 4651, 4657, 4663, 4673, 4679, 4691, 4703, 4721, 4723, 4729, 4733, 4751, 4759, 4783, 4787, 4789, 4793, 4799, 4801, 4813, 4817, 4831, 4861, 4871, 4877, 4889, 4903, 4909, 4919, 4931, 4933, 4937, 4943, 4951, 4957, 4967, 4969, 4973, 4987, 4993, 4999, 5003, 5009, 5011, 5021, 5023, 5039, 5051, 5059, 5077, 5081, 5087, 5099, 5101, 5107, 5113, 5119, 5147, 5153, 5167, 5171, 5179, 5189, 5197, 5209, 5227, 5231, 5233, 5237, 5261, 5273, 5279, 5281, 5297, 5303, 5309, 5323, 5333, 5347, 5351, 5381, 5387, 5393, 5399, 5407, 5413, 5417, 5419, 5431, 5437, 5441, 5443, 5449, 5471, 5477, 5479, 5483, 5501, 5503, 5507, 5519, 5521, 5527, 5531, 5557, 5563, 5569, 5573, 5581, 5591, 5623, 5639, 5641, 5647, 5651, 5653, 5657, 5659, 5669, 5683, 5689, 5693, 5701, 5711, 5717, 5737, 5741, 5743, 5749, 5779, 5783, 5791, 5801, 5807, 5813, 5821, 5827, 5839, 5843, 5849, 5851, 5857, 5861, 5867, 5869, 5879, 5881, 5897, 5903, 5923, 5927, 5939, 5953, 5981, 5987, 6007, 6011, 6029, 6037, 6043, 6047, 6053, 6067, 6073, 6079, 6089, 6091, 6101, 6113, 6121, 6131, 6133, 6143, 6151, 6163, 6173, 6197, 6199, 6203, 6211, 6217, 6221, 6229, 6247, 6257, 6263, 6269, 6271, 6277, 6287, 6299, 6301, 6311, 6317, 6323, 6329, 6337, 6343, 6353, 6359, 6361, 6367, 6373, 6379, 6389, 6397, 6421, 6427, 6449, 6451, 6469, 6473, 6481, 6491, 6521, 6529, 6547, 6551, 6553, 6563, 6569, 6571, 6577, 6581, 6599, 6607, 6619, 6637, 6653, 6659, 6661, 6673, 6679, 6689, 6691, 6701, 6703, 6709, 6719, 6733, 6737, 6761, 6763, 6779, 6781, 6791, 6793, 6803, 6823, 6827, 6829, 6833, 6841, 6857, 6863, 6869, 6871, 6883, 6899, 6907, 6911, 6917, 6947, 6949, 6959, 6961, 6967, 6971, 6977, 6983, 6991, 6997, 7001, 7013, 7019, 7027, 7039, 7043, 7057, 7069, 7079, 7103, 7109, 7121, 7127, 7129, 7151, 7159, 7177, 7187, 7193, 7207, 7211, 7213, 7219, 7229, 7237, 7243, 7247, 7253, 7283, 7297, 7307, 7309, 7321, 7331, 7333, 7349, 7351, 7369, 7393, 7411, 7417, 7433, 7451, 7457, 7459, 7477, 7481, 7487, 7489, 7499, 7507, 7517, 7523, 7529, 7537, 7541, 7547, 7549, 7559, 7561, 7573, 7577, 7583, 7589, 7591, 7603, 7607, 7621, 7639, 7643, 7649, 7669, 7673, 7681, 7687, 7691, 7699, 7703, 7717, 7723, 7727, 7741, 7753, 7757, 7759, 7789, 7793, 7817, 7823, 7829, 7841, 7853, 7867, 7873, 7877, 7879, 7883, 7901, 7907, 7919, 7927, 7933, 7937, 7949, 7951, 7963, 7993, 8009, 8011, 8017, 8039, 8053, 8059, 8069, 8081, 8087, 8089, 8093, 8101, 8111, 8117, 8123, 8147, 8161, 8167, 8171, 8179, 8191, 8209, 8219, 8221, 8231, 8233, 8237, 8243, 8263, 8269, 8273, 8287, 8291, 8293, 8297, 8311, 8317, 8329, 8353, 8363, 8369, 8377, 8387, 8389, 8419, 8423, 8429, 8431, 8443, 8447, 8461, 8467, 8501, 8513, 8521, 8527, 8537, 8539, 8543, 8563, 8573, 8581, 8597, 8599, 8609, 8623, 8627, 8629, 8641, 8647, 8663, 8669, 8677, 8681, 8689, 8693, 8699, 8707, 8713, 8719, 8731, 8737, 8741, 8747, 8753, 8761, 8779, 8783, 8803, 8807, 8819, 8821, 8831, 8837, 8839, 8849, 8861, 8863, 8867, 8887, 8893, 8923, 8929, 8933, 8941, 8951, 8963, 8969, 8971, 8999, 9001, 9007, 9011, 9013, 9029, 9041, 9043, 9049, 9059, 9067, 9091, 9103, 9109, 9127, 9133, 9137, 9151, 9157, 9161, 9173, 9181, 9187, 9199, 9203, 9209, 9221, 9227, 9239, 9241, 9257, 9277, 9281, 9283, 9293, 9311, 9319, 9323, 9337, 9341, 9343, 9349, 9371, 9377, 9391, 9397, 9403, 9413, 9419, 9421, 9431, 9433, 9437, 9439, 9461, 9463, 9467, 9473, 9479, 9491, 9497, 9511, 9521, 9533, 9539, 9547, 9551, 9587, 9601, 9613, 9619, 9623, 9629, 9631, 9643, 9649, 9661, 9677, 9679, 9689, 9697, 9719, 9721, 9733, 9739, 9743, 9749, 9767, 9769, 9781, 9787, 9791, 9803, 9811, 9817, 9829, 9833, 9839, 9851, 9857, 9859, 9871, 9883, 9887, 9901, 9907, 9923, 9929, 9931, 9941, 9949, 9967, 9973]\n"
     ]
    }
   ],
   "source": [
    "# Solution to 2.12\n",
    "'''\n",
    "Program to find the prime numbers between 2 and 10000\n",
    "Inputs: \n",
    "    none\n",
    "Outputs:\n",
    "    the prime numbers up to 10000\n",
    "\n",
    "James O. Thomas\n",
    "September 2015\n",
    "'''\n",
    "\n",
    "import numpy as np\n",
    "\n",
    "primes = [2] # the list to hold the primes\n",
    "\n",
    "for n in np.arange(3,10001,1):          # loop over values to check\n",
    "    n_max = np.sqrt(n)+1                # max value necessary to check (+1 because I am not sure about rounding)\n",
    "    for p in primes:\n",
    "        if p <= n_max and n%p==0:       # if p is less than or equal to sqrt(n) check the value, otherwise move on\n",
    "            break                       # if n is evenly divisibly by p then n is not prime so move on\n",
    "    else:                               # the location of what comes after the \"break\" seems off, but it works.\n",
    "        primes.append(n)\n",
    "        \n",
    "print(primes)"
   ]
  },
  {
   "cell_type": "markdown",
   "metadata": {},
   "source": [
    "The output from the above program is the list of the prime number through 10,000. The hardest part of this problem was figuring out which logic operator (and, or, etc) to use."
   ]
  },
  {
   "cell_type": "code",
   "execution_count": null,
   "metadata": {
    "collapsed": true
   },
   "outputs": [],
   "source": []
  }
 ],
 "metadata": {
  "kernelspec": {
   "display_name": "Python 3",
   "language": "python",
   "name": "python3"
  },
  "language_info": {
   "codemirror_mode": {
    "name": "ipython",
    "version": 3
   },
   "file_extension": ".py",
   "mimetype": "text/x-python",
   "name": "python",
   "nbconvert_exporter": "python",
   "pygments_lexer": "ipython3",
   "version": "3.4.3"
  }
 },
 "nbformat": 4,
 "nbformat_minor": 0
}
