{
 "cells": [
  {
   "cell_type": "markdown",
   "metadata": {},
   "source": [
    "# HW Set 10 - Random Stuff\n",
    "## Due Nov 19 2015\n",
    "\n",
    "### Name:   James O. Thomas "
   ]
  },
  {
   "cell_type": "code",
   "execution_count": 1,
   "metadata": {
    "collapsed": true
   },
   "outputs": [],
   "source": [
    "%matplotlib inline"
   ]
  },
  {
   "cell_type": "markdown",
   "metadata": {},
   "source": [
    "# Exercise 6.4\n",
    "\n",
    "Write a program to solve the reisitor network problem of Exercise 6.1 on page 220 using the function solve from numpy.linalg. If you also did Exercise 6.1, you should check that you get the same answer both times."
   ]
  },
  {
   "cell_type": "markdown",
   "metadata": {},
   "source": [
    "In order to solve this we first need to come up with the linear equations. Considering each point we have:\n",
    "\n",
    "\\begin{align}\n",
    "0 &= \\frac{V_1-V_2}{R} + \\frac{V_1-V_3}{R} + \\frac{V_1-V_4}{R} + \\frac{V_1-V_0}{R} \\\\\n",
    "0 &= \\frac{V_2-V_1}{R} + \\frac{V_2-V_4}{R} + \\frac{V_2-0}{R} \\\\\n",
    "0 &= \\frac{V_3-V_0}{R} + \\frac{V_3-V_1}{R} + \\frac{V_3-V_4}{R} \\\\\n",
    "0 &= \\frac{V_4-V_3}{R} + \\frac{V_4-V_1}{R} + \\frac{V_4-V_2}{R} + \\frac{V_4-0}{R}\n",
    "\\end{align}\n",
    "\n",
    "clearing the $R$ and doing a little algebra we get\n",
    "\n",
    "\\begin{align}\n",
    "4V_1 - V_2 - V_3 - V_4 &= V_0 \\\\\n",
    "-V_1 + 3V_2 + 0 -V_4 &= 0 \\\\\n",
    "-V_1 + 0 + 3 V_3 - V_4 &= V_0 \\\\\n",
    "-V_1 - V_2 - V_3 + 4V_4 &= 0\n",
    "\\end{align}\n",
    "\n",
    "These are the linear equations we need to solve."
   ]
  },
  {
   "cell_type": "code",
   "execution_count": 2,
   "metadata": {
    "collapsed": false
   },
   "outputs": [
    {
     "name": "stdout",
     "output_type": "stream",
     "text": [
      "The voltage V1 is  [[ 3.]]\n",
      "The voltage V2 is  [[ 1.66666667]]\n",
      "The voltage V3 is  [[ 3.33333333]]\n",
      "The voltage V4 is  [[ 2.]]\n"
     ]
    }
   ],
   "source": [
    "# Exercise 6.4\n",
    "import numpy as np\n",
    "# Ax = B\n",
    "\n",
    "A = np.matrix([[4, -1, -1, -1],[-1, 3, 0, -1],[-1, 0, 3, -1],[-1, -1, -1, 4]])\n",
    "B = np.matrix([5, 0, 5, 0])\n",
    "B = np.transpose(B)\n",
    "X = np.linalg.solve(A,B)\n",
    "print('The voltage V1 is ', X[0])\n",
    "print('The voltage V2 is ', X[1])\n",
    "print('The voltage V3 is ', X[2])\n",
    "print('The voltage V4 is ', X[3])"
   ]
  },
  {
   "cell_type": "markdown",
   "metadata": {},
   "source": [
    "# Exercise 6.8: the QR algorithm:\n",
    "\n"
   ]
  },
  {
   "cell_type": "code",
   "execution_count": null,
   "metadata": {
    "collapsed": true
   },
   "outputs": [],
   "source": [
    "# Solution to problem 6.8: QR algorithm\n",
    "\n",
    "import numpy as np\n",
    "\n",
    "def QR (A):\n",
    "    # square matrix has same number of columns as rows\n",
    "    n,n = np.shape(A)\n",
    "    # preallocate the Q,R, matrices\n",
    "    Q = np.zeros(np.shape(A))\n",
    "    R = np.zeros(np.shape(A))\n",
    "    for j in range(n):\n",
    "        v = A[:,j]\n",
    "        \n",
    "    \n",
    "    return Q, R"
   ]
  },
  {
   "cell_type": "markdown",
   "metadata": {},
   "source": [
    "# Exercise 6.10:\n",
    "\n",
    "Consider the equation $x=1-e^{-cx}$, where $c$ is a known parameter and $x$ is unknown. This equation arises in a variety of situations, including the physics of contact processes, mathematical models of epidemics, and the theory of random graphs.\n",
    "\n",
    "1. Write a program to solve this equation for $x$ using the relaxation method for the case $c=2$. Calculate your solution to an accuracy of atleast $10^{-6}$.\n",
    "\n",
    "2. Modify your program to calculate the solution for values of $c$ from from $0$ to $3$ in steps of 0.01 and make a plot of $x$ as a function of $c$. You should see a clear transition from a regime in which $x=0$ to a regime of nonzero $x$. this is another example of a phase transition. In physics this transition is known as the *percolation transition*; in epidemiology is is the *epidemic threshold*."
   ]
  },
  {
   "cell_type": "code",
   "execution_count": 3,
   "metadata": {
    "collapsed": false
   },
   "outputs": [
    {
     "name": "stdout",
     "output_type": "stream",
     "text": [
      " x =  0.796811824496\n"
     ]
    }
   ],
   "source": [
    "# Exercise 6.10 part 1\n",
    "import numpy as np\n",
    "\n",
    "def f(x,c):\n",
    "    f = 1-np.exp(-c*x)\n",
    "    return f\n",
    "\n",
    "def fprime(x,c):\n",
    "    fp = c*np.exp(-c*x)\n",
    "    return fp\n",
    "    \n",
    "c = 2\n",
    "accuracy = 1e-6\n",
    "error = 1       # get inside the loop\n",
    "x = 0.5         # a first guess\n",
    "\n",
    "while error > accuracy:\n",
    "    xnew = f(x,c)\n",
    "    error = np.abs((x - xnew)/(1-fprime(x,c)))\n",
    "    x = xnew\n",
    "    \n",
    "print(' x = ',x)"
   ]
  },
  {
   "cell_type": "code",
   "execution_count": 4,
   "metadata": {
    "collapsed": false
   },
   "outputs": [
    {
     "name": "stdout",
     "output_type": "stream",
     "text": [
      "1013188\n"
     ]
    },
    {
     "data": {
      "image/png": "[encoded data removed]",
      "text/plain": [
       "<matplotlib.figure.Figure at 0xb0bf6c0c>"
      ]
     },
     "metadata": {},
     "output_type": "display_data"
    }
   ],
   "source": [
    "# Exercise 6.10 part 2\n",
    "# now do the loop\n",
    "\n",
    "import numpy as np\n",
    "import matplotlib.pyplot as plt\n",
    "count = 0\n",
    "def f(x,c):\n",
    "    global count\n",
    "    count +=1\n",
    "    f = 1-np.exp(-c*x)\n",
    "    return f\n",
    "\n",
    "def fprime(x,c):\n",
    "    fp = c*np.exp(-c*x)\n",
    "    return fp\n",
    "\n",
    "c_vals = np.arange(0.0,3.0,0.01)\n",
    "accuracy = 1e-6\n",
    "solns = []  # for storing the solutions\n",
    "\n",
    "for c in c_vals:\n",
    "    error = 1\n",
    "    x = 0.05\n",
    "    while error > accuracy:\n",
    "        xnew = f(x,c)\n",
    "        error = np.abs((x-xnew)/(1-fprime(x,c)))\n",
    "        x = xnew\n",
    "    solns.append(x)\n",
    "\n",
    "print(count)\n",
    "plt.figure(figsize = (5,5))\n",
    "plt.plot(c_vals,solns)\n",
    "plt.title('Relaxation method', size = 16)\n",
    "plt.xlabel('c', size = 14)\n",
    "plt.ylabel('x', size = 14)\n",
    "plt.show()"
   ]
  },
  {
   "cell_type": "markdown",
   "metadata": {},
   "source": [
    "We can see that the solution for part 1 is $ x = 0.796811824496 $ which is within the tolerance of the exact value (according to wolframalpha) of $ x = 0.796812 $.\n",
    "\n",
    "From part 2 we can see that the transition occurs at $ c = 1 $."
   ]
  },
  {
   "cell_type": "markdown",
   "metadata": {},
   "source": [
    "# Exercise 6.12\n",
    "\n",
    "The biochemical process of *glycolysis*, the breakdown of glucose in the body to release energy, can be modeled by the equations\n",
    "\n",
    "$$\\frac{dx}{dt} = -x + ay + x^2y $$\n",
    "\n",
    "$$\\frac{dy}{dt} = b -ay -x^2y $$\n",
    "\n",
    "Here $x$ and $y$ represent concentrations of two chemicals, ADP and F6P, and $a$ and $b$ are positive constants. One of the important features of nonlinear equations like these is their *stationary points*, meaning values of $x$ and $y$ at which the derivatives of both variables becomes zero simultaneously, so that the variables stop changing and become constant in time. Setting the derivatives to zero above, the stationary points of our glycolosis equations are solutions of \n",
    "\n",
    "$$ -x + ay + x^2y = 0 $$\n",
    "\n",
    "$$ b -ay -x^2y = 0 $$\n",
    "\n",
    "1. Demonstrate analytically that the solution of these equations is $x=b$, $y=\\frac{b}{a + b^2}$\n",
    "\n",
    "2. Show that the equations can be rearranged to read $x = y(a + x^2)$, $ y = \\frac{b}{a + x^2}$ and write a program to solve these for the stationary point using the relaxation method with $a=1$ and $b=2$. You should find that the method fails to converge to a solution in this case.\n",
    "\n",
    "3. Find a different way to rearrange the equations such that when you apply the relaxation method again it now converges to a fixed point and gives a solution. Verify that the solution you get agrees with part (1)."
   ]
  },
  {
   "cell_type": "markdown",
   "metadata": {},
   "source": [
    "## Solution to part 1\n",
    "All we need to do here is plug in the given values and verify that both $\\frac{dx}{dt} $ and $ \\frac{dy}{dt} $ are 0.\n",
    "\n",
    "\\begin{align}\n",
    "\\frac{dx}{dt} &= -x + ay + x^2 y \\\\\n",
    "&= -b + a \\left( \\frac{b}{a+b^2} \\right) + b^2 \\left(\\frac{b}{a+b^2} \\right) \\\\\n",
    "&= -b + \\frac{ab}{a+b^2} + \\frac{b^3}{a+b^2} \\\\\n",
    "&= \\frac{-b(a+b^2)}{a+b^2} + \\frac{ab}{a+b^2} + \\frac{b^3}{a+b^2} \\\\\n",
    "&= \\frac{-ba-b^3+ab+b^3}{a+b^2} \\\\\n",
    "&= \\frac{0}{a+b^2} \\\\\n",
    "&=0\n",
    "\\end{align}\n",
    "\n",
    "and\n",
    "\n",
    "\\begin{align}\n",
    "\\frac{dy}{dt} &= b - ay -x^2y \\\\\n",
    "&= b - a \\left( \\frac{b}{a+b^2} \\right) - b^2 \\left(\\frac{b}{a+b^2} \\right) \\\\\n",
    "&= b - \\frac{ab}{a+b^2} - \\frac{b^3}{a+b^2} \\\\\n",
    "&= \\frac{b(a+b^2)}{a+b^2} - \\frac{ab}{a+b^2} - \\frac{b^3}{a+b^2} \\\\\n",
    "&= \\frac{ba+b^3-ab-b^3}{a+b^2} \\\\\n",
    "&= \\frac{0}{a+b^2} \\\\\n",
    "&=0\n",
    "\\end{align}\n",
    "\n",
    "Therefore $ x = b $ and $ y = \\frac{b}{a+b^2} $ are solutions for the stationary states of the given differentials."
   ]
  },
  {
   "cell_type": "markdown",
   "metadata": {},
   "source": [
    "## Solution to part 2\n",
    "\n",
    "This is simply rearranging the given equations.\n",
    "\n",
    "$$ -x + ay + x^2y = 0 $$\n",
    "\n",
    "$$ x = ay + x^2y $$\n",
    "\n",
    "$$ x = y(a + x^2) $$\n",
    "\n",
    "and\n",
    "\n",
    "$$ b -ay -x^2y = 0 $$\n",
    "\n",
    "$$ ay + x^2y = b $$\n",
    "\n",
    "$$ y(a + x^2) = b $$\n",
    "\n",
    "$$ y = \\frac{b}{a + x^2} $$"
   ]
  },
  {
   "cell_type": "code",
   "execution_count": 6,
   "metadata": {
    "collapsed": false
   },
   "outputs": [
    {
     "name": "stdout",
     "output_type": "stream",
     "text": [
      "working. 10.0  %\n",
      "working. 20.0  %\n",
      "working. 30.0  %\n",
      "working. 40.0  %\n",
      "working. 50.0  %\n",
      "working. 60.0  %\n",
      "working. 70.0  %\n",
      "working. 80.0  %\n",
      "working. 90.0  %\n",
      "tolerance not reached in  1000001  iterations\n"
     ]
    }
   ],
   "source": [
    "# Exercise 6.12 part 2\n",
    "import numpy as np\n",
    "\n",
    "def RHS (r,a,b):\n",
    "    x = r[0]  # unpack because its clearer for me\n",
    "    y = r[1]\n",
    "    xnew = y*(a + x**2)\n",
    "    ynew = b/(a + x**2)\n",
    "    return [xnew, ynew]\n",
    "\n",
    "tolerance = 1e-3\n",
    "maxtries = 1e6\n",
    "checks = np.array([1e5, 2e5, 3e5, 4e5, 5e5, 6e5, 7e5, 8e5, 9e5], dtype = int)\n",
    "a = 1.0\n",
    "b = 2.0\n",
    "\n",
    "# exact solutions (known analytically)\n",
    "x_exact = b\n",
    "y_exact = b/(a + b**2)\n",
    "r_exact = np.array([x_exact, y_exact])\n",
    "\n",
    "#initial guesses\n",
    "x = 1.5\n",
    "y = 0.5\n",
    "r = np.array([x,y])\n",
    "\n",
    "error = 1 # get inside the loop\n",
    "n = 0\n",
    "\n",
    "go = True\n",
    "\n",
    "while go == True:\n",
    "    r_new = RHS(r,a,b)\n",
    "    error = np.max(np.absolute(r_new - r_exact))\n",
    "    r = r_new\n",
    "    n+=1\n",
    "    if error < tolerance:\n",
    "        go = False\n",
    "        \n",
    "    if n > maxtries:\n",
    "        go = False\n",
    "        \n",
    "    if n in checks:\n",
    "        print('working.', round(n/maxtries*100,1),' %')\n",
    "\n",
    "if n == maxtries + 1:\n",
    "    print('tolerance not reached in ',n, ' iterations')\n",
    "else:\n",
    "    print('the solution of x = ',r[0], ' and y = ', r[1],' was found after ', n, ' iterations')"
   ]
  },
  {
   "cell_type": "markdown",
   "metadata": {},
   "source": [
    "As expected, this did not converge to the correct solution, even with the relatively low tolerance of $10^{-3}$."
   ]
  },
  {
   "cell_type": "markdown",
   "metadata": {},
   "source": [
    "Now we rearrange the equations again:\n",
    "\n",
    "\\begin{align}\n",
    "0 &= -x + ay + x^2y \\\\\n",
    "x &= ay + x^2y \\\\\n",
    "x &= y \\left( a + x^2 \\right) \\\\\n",
    "y &= \\frac{x}{a + x^2}\n",
    "\\end{align}\n",
    "\n",
    "and\n",
    "\n",
    "\\begin{align}\n",
    "0 &= b - ay - x^2y \\\\\n",
    "x^2y &= b - ay \\\\\n",
    "x^2 &= \\frac{b}{y} - a \\\\\n",
    "x &= \\sqrt{\\frac{b}{y} - a}\n",
    "\\end{align}"
   ]
  },
  {
   "cell_type": "code",
   "execution_count": 7,
   "metadata": {
    "collapsed": false
   },
   "outputs": [
    {
     "name": "stdout",
     "output_type": "stream",
     "text": [
      "the solution of x =  1.99999993063  and y =  0.400000012589  was found after  32  iterations\n",
      "the exact solutions are x =  2.0  and y =  0.4\n"
     ]
    }
   ],
   "source": [
    "# Exercise 6.12 part 3\n",
    "import numpy as np\n",
    "\n",
    "def RHS (r,a,b):\n",
    "    x = r[0]  # unpack because its clearer for me\n",
    "    y = r[1]\n",
    "    xnew = np.sqrt(b/y - a)\n",
    "    ynew = x/(a + x**2)\n",
    "    return [xnew, ynew]\n",
    "\n",
    "tolerance = 1e-7\n",
    "maxtries = 1e6\n",
    "checks = np.array([1e5, 2e5, 3e5, 4e5, 5e6, 6e5, 7e5, 8e5, 9e5], dtype = int)\n",
    "a = 1.0\n",
    "b = 2.0\n",
    "\n",
    "# exact solutions (known analytically)\n",
    "x_exact = b\n",
    "y_exact = b/(a + b**2)\n",
    "r_exact = np.array([x_exact, y_exact])\n",
    "\n",
    "#initial guesses\n",
    "x = 1.5\n",
    "y = 0.5\n",
    "r = np.array([x,y])\n",
    "\n",
    "error = 1 # get inside the loop\n",
    "n = 0\n",
    "\n",
    "go = True\n",
    "\n",
    "while go == True:\n",
    "    r_new = RHS(r,a,b)\n",
    "    error = np.max(np.absolute(r_new - r_exact))\n",
    "    r = r_new\n",
    "    n+=1\n",
    "    if error < tolerance:\n",
    "        go = False\n",
    "        \n",
    "    if n > maxtries:\n",
    "        go = False\n",
    "        \n",
    "    if n in checks:\n",
    "        print('working.', round(n/maxtries*100,1),' %')\n",
    "\n",
    "if n == maxtries + 1:\n",
    "    print('tolerance not reached in ',n, ' iterations')\n",
    "else:\n",
    "    print('the solution of x = ',r[0], ' and y = ', r[1],' was found after ', n, ' iterations')\n",
    "    \n",
    "print('the exact solutions are x = ',x_exact,' and y = ',y_exact)"
   ]
  },
  {
   "cell_type": "markdown",
   "metadata": {},
   "source": [
    "Using these new rearrangements, we can see that this algorithm found the exact solution to within the given tolerance."
   ]
  },
  {
   "cell_type": "markdown",
   "metadata": {},
   "source": [
    "# Exercise 6.15: The roots of a polynomial\n",
    "\n",
    "Consider the sixth-order polynomial\n",
    "\n",
    "$$P(x) = 924x^6 - 2772x^5 + 3150x^4 - 1680x^3 + 420x^2 -42x + 1$$\n",
    "\n",
    "There is no general formula for the roots of a sixth-order polynomail, but you can find them easily enough using a computer.\n",
    "\n",
    "1. Make a plot of $P(x)$ from $x=0$ to $x=1$ and by inspecting it find rough values for the six roots of the polynomial - the points at which the function is zero.\n",
    "\n",
    "2. Write a Python program to solve for the the positions of all six roots to at least ten decimal places of accuracy, using Newton's method.\n",
    "\n",
    "Note that the polynomial in this example is just the sixth Legendre polynomial (mapped onto the interval from zero to one), so the calculation performed here is the same as finding the integration points for 6-point Gaussin quadrature (see Section 5.6.2), and indeed Newton's method of choice for calculating Gaussian quadrature points."
   ]
  },
  {
   "cell_type": "code",
   "execution_count": 8,
   "metadata": {
    "collapsed": false
   },
   "outputs": [
    {
     "data": {
      "image/png": "[encoded data removed]",
      "text/plain": [
       "<matplotlib.figure.Figure at 0xb0b1482c>"
      ]
     },
     "metadata": {},
     "output_type": "display_data"
    },
    {
     "name": "stdout",
     "output_type": "stream",
     "text": [
      "the approximate zeros are at x =  [ 0.03  0.17  0.38  0.62  0.83  0.97]\n"
     ]
    }
   ],
   "source": [
    "# Solution to exercise 6.15 part 1\n",
    "# approximate solutions\n",
    "import numpy as np\n",
    "import matplotlib.pyplot as plt\n",
    "\n",
    "def P(x):\n",
    "    P = 924*x**6 - 2772*x**5 + 3150*x**4 - 1680*x**3 + 420*x**2 - 42*x + 1\n",
    "    return P\n",
    "    \n",
    "x = np.arange(0,1.01,0.01)\n",
    "Pval = P(x)\n",
    "\n",
    "approx = np.array([0.03,0.17,0.38,0.62,0.83,0.97])\n",
    "plt.figure(figsize = (5,5))\n",
    "plt.plot(x,Pval)\n",
    "plt.plot([0,1],[0,0], 'r--')\n",
    "plt.plot(approx,np.zeros(len(approx)), 'kx')\n",
    "plt.title('Legendre Polynomial')\n",
    "plt.show()\n",
    "print('the approximate zeros are at x = ',approx)"
   ]
  },
  {
   "cell_type": "code",
   "execution_count": 9,
   "metadata": {
    "collapsed": false
   },
   "outputs": [
    {
     "data": {
      "image/png": "[encoded data removed]",
      "text/plain": [
       "<matplotlib.figure.Figure at 0xb0ad9cac>"
      ]
     },
     "metadata": {},
     "output_type": "display_data"
    },
    {
     "name": "stdout",
     "output_type": "stream",
     "text": [
      "the exact zeros are at x =  [ 0.0337652429  0.1693953068  0.380690407   0.619309593   0.8306046932\n",
      "  0.9662347571]\n"
     ]
    }
   ],
   "source": [
    "# Solution to exercise 6.15 part 2\n",
    "# find the solutions using Newton's method\n",
    "import numpy as np\n",
    "import matplotlib.pyplot as plt\n",
    "\n",
    "def P(x):\n",
    "    P = 924*x**6 - 2772*x**5 + 3150*x**4 - 1680*x**3 + 420*x**2 - 42*x + 1\n",
    "    return P\n",
    "    \n",
    "def Pprime(x):\n",
    "    Pprime = 924*6*x**5 - 2772*5*x**4 + 3150*4*x**3 - 1680*3*x**2 + 420*2*x - 42\n",
    "    return Pprime\n",
    "\n",
    "approx = np.array([0.03,0.17,0.38,0.62,0.83,0.97])\n",
    "exact = np.zeros(len(approx))\n",
    "tolerance = 1e-10\n",
    "    \n",
    "for i in range(len(approx)):\n",
    "    x = approx[i]\n",
    "    error = 1\n",
    "    while error > tolerance:\n",
    "        xnew = x - P(x)/Pprime(x)\n",
    "        error = np.abs(x-xnew)\n",
    "        x = xnew\n",
    "    exact[i] = x\n",
    "    \n",
    "x = np.arange(0,1.01,0.01)\n",
    "Pval = P(x)\n",
    "\n",
    "plt.figure(figsize = (5,5))\n",
    "plt.plot(x,Pval)\n",
    "plt.plot([0,1],[0,0], 'r--')\n",
    "plt.plot(exact,np.zeros(len(approx)), 'kx')\n",
    "plt.title('Legendre Polynomial')\n",
    "plt.show()\n",
    "np.set_printoptions(precision = 10)\n",
    "print('the exact zeros are at x = ',exact)"
   ]
  },
  {
   "cell_type": "markdown",
   "metadata": {},
   "source": [
    "# Exercise 16: The Lagrange point\n",
    "\n",
    "There is a magical point between the Earth and the Moon, called the $L_1$ Lagrange point, at which a satellite will orbit the Earth in perfect synchrony with the Moon, staying always in between the two. this works because the inward pull of the Earth and the outward pull of the Moon combine to create exactly the needed centripetal force that keeps the satellite in its orbit.\n",
    "\n",
    "1. Assuming circuar orbits, and assuming that the Earth is much more massive than either the Moon or the satellite, show that the distance $r$ from the center of the Earth to the $L_1$ point satisfies  $ \\frac{GM}{r^2} - \\frac{Gm}{(R-r)^2} = \\omega ^2 r $, where $R$ is the distance form the Earth to the Moon, $M$ and $m$ are the Earth and Moon masses, $G$ is Newton's gravitational constant, and $\\omega $ is the angular velocity of both the Moon and the satellite.\n",
    "\n",
    "2. The equation above is a fifth-order polynomial equaion in $r$ (also called a quintic equation). Such equations cannnot be solved exactly in closed form, but it's straight forward to solve them numerically. Write a program that uses either Newton's method or the secant method to solve for the distance $r$ from the Earth to the $L_1$ point. compute a solution accurate to at least four significant figures. You will also need to choose a suitable starting value for $r$, or two starting values if you use the secant method."
   ]
  },
  {
   "cell_type": "markdown",
   "metadata": {
    "collapsed": true
   },
   "source": [
    "## Solution to part 1\n",
    "\n",
    "We can find this expression using Newton's second law: $\\sum \\vec{F} = m \\vec{a} $.\n",
    "\n",
    "where $\\sum \\vec{F} $ consists of the gravitational force on the satellite from Earth plus the gravitational force on the satellite from the Moon and the acceleration is a centrepital acceleration.\n",
    "\n",
    "\\begin{align}\n",
    "m_s \\vec{a} &= \\vec{F}_{G_{E}} + \\vec{F}_{G_{M}} \\\\\n",
    "m_s \\omega ^2 r_{rotation} &= \\frac{Gm_sM_{earth}}{r_{Es}^2} - \\frac{Gm_sm_{moon}}{r_{ms}^2}  \\\\\n",
    "\\omega ^2r &= \\frac{GM}{r^2} - \\frac{Gm}{(R-r)^2}\n",
    "\\end{align}"
   ]
  },
  {
   "cell_type": "code",
   "execution_count": 10,
   "metadata": {
    "collapsed": false
   },
   "outputs": [
    {
     "name": "stdout",
     "output_type": "stream",
     "text": [
      "number of iterations needed =  43\n",
      "r =  312161.7259795667  km\n",
      "which is  81.21 % of the Earth-Moon distance\n"
     ]
    }
   ],
   "source": [
    "# solution to exercise 16 part 2\n",
    "import numpy as np\n",
    "\n",
    "def f(r):\n",
    "    f = omega**2*r - G*M/r**2 + 2*G*m/(R-r)**2\n",
    "    return f\n",
    "\n",
    "def fprime(r):\n",
    "    fp = omega**2 + 2*G*M/r**3 + 2*G*m/(R-r)**3\n",
    "    return fp\n",
    "\n",
    "    \n",
    "# define a bunch of parameters\n",
    "G = 6.674e-11     # m^3kg^-1s^-2\n",
    "M = 5.974e24      # kg\n",
    "m = 7.348e22      # kg\n",
    "R = 3.844e8       # m\n",
    "omega = 2.662e-6  # s^-1\n",
    "\n",
    "accuracy = 1e-7\n",
    "error = 100.      # get inside the loop\n",
    "r = R*0.5         # a first guess\n",
    "\n",
    "count = 0\n",
    "while error > accuracy:\n",
    "    rnew = r - f(r)/fprime(r)\n",
    "    error = np.abs(rnew - r)\n",
    "    r = rnew    \n",
    "    count +=1\n",
    "    \n",
    "print('number of iterations needed = ',count)\n",
    "print('r = ',r/1000, ' km')\n",
    "print('which is ',round(r/R*100,2),'% of the Earth-Moon distance')"
   ]
  },
  {
   "cell_type": "markdown",
   "metadata": {},
   "source": [
    "According to this method the $L_1$ point is at about 81% of the Earth-moon distance. This is fairly close to the 85% I remember from undergrad."
   ]
  },
  {
   "cell_type": "code",
   "execution_count": null,
   "metadata": {
    "collapsed": true
   },
   "outputs": [],
   "source": []
  }
 ],
 "metadata": {
  "kernelspec": {
   "display_name": "Python 3",
   "language": "python",
   "name": "python3"
  },
  "language_info": {
   "codemirror_mode": {
    "name": "ipython",
    "version": 3
   },
   "file_extension": ".py",
   "mimetype": "text/x-python",
   "name": "python",
   "nbconvert_exporter": "python",
   "pygments_lexer": "ipython3",
   "version": "3.4.3"
  }
 },
 "nbformat": 4,
 "nbformat_minor": 0
}
