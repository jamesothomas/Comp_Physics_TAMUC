{
 "cells": [
  {
   "cell_type": "markdown",
   "metadata": {},
   "source": [
    "# James O. Thomas\n",
    "\n",
    "## Chapter 4 Homework\n",
    "\n",
    "## Computational Physics"
   ]
  },
  {
   "cell_type": "markdown",
   "metadata": {},
   "source": [
    "## Exercise 4.1\n",
    "\n",
    "Write a program to calculate and print the factorial of a number entered by the user. If you wish you can base your program on the user-defined function for factorial given in section 2.6, but write your program so that it calculates the factorial using *integer* variables, not floating-point ones. use your program to calculate the factorial of 200.\n",
    "\n",
    "Now modify your program to use floating-point variables instead and again calculate the factorial of 200. What do you find? Explain."
   ]
  },
  {
   "cell_type": "code",
   "execution_count": 8,
   "metadata": {
    "collapsed": false
   },
   "outputs": [
    {
     "name": "stdout",
     "output_type": "stream",
     "text": [
      "Please input the integer value to calculate the factorial of: 200\n",
      "200 ! =  788657867364790503552363213932185062295135977687173263294742533244359449963403342920304284011984623904177212138919638830257642790242637105061926624952829931113462857270763317237396988943922445621451664240254033291864131227428294853277524242407573903240321257405579568660226031904170324062351700858796178922222789623703897374720000000000000000000000000000000000000000000000000\n"
     ]
    }
   ],
   "source": [
    "# Solution to 4.1\n",
    "\n",
    "'''\n",
    "Program to calculate the factorial of a number (n!)\n",
    "\n",
    "Inputs: \n",
    "    n, the number to take the factorial of\n",
    "Outputs:\n",
    "    f, n!\n",
    "    \n",
    "James O. Thomas\n",
    "September 2015\n",
    "'''\n",
    "\n",
    "import numpy as np\n",
    "import math as math\n",
    "\n",
    "def factorial(n):\n",
    "    fact = 1\n",
    "    for i in range(1,n+1):        # why does this not work when I use np.arange(1,n+1, dtype=int)?\n",
    "        fact *= i\n",
    "    return fact\n",
    "\n",
    "n = int(input(\"Please input the integer value to calculate the factorial of: \"))\n",
    "\n",
    "n_fact = factorial(n)\n",
    "\n",
    "print(n,'! = ', n_fact)\n",
    "# print(n, '! = ', math.factorial(n))"
   ]
  },
  {
   "cell_type": "markdown",
   "metadata": {},
   "source": [
    "When using integer data types, the user defined function returns the value of 200! as expected. There was no overflow because python can handle arbitrarily large integer values."
   ]
  },
  {
   "cell_type": "code",
   "execution_count": 2,
   "metadata": {
    "collapsed": false
   },
   "outputs": [
    {
     "name": "stdout",
     "output_type": "stream",
     "text": [
      "Please input the integer value to calculate the factorial of: 200\n",
      "200.0 ! =  inf\n",
      "200.0 ! =  788657867364790503552363213932185062295135977687173263294742533244359449963403342920304284011984623904177212138919638830257642790242637105061926624952829931113462857270763317237396988943922445621451664240254033291864131227428294853277524242407573903240321257405579568660226031904170324062351700858796178922222789623703897374720000000000000000000000000000000000000000000000000\n"
     ]
    },
    {
     "name": "stderr",
     "output_type": "stream",
     "text": [
      "/home/james/anaconda3/lib/python3.4/site-packages/IPython/kernel/__main__.py:21: RuntimeWarning: overflow encountered in double_scalars\n"
     ]
    }
   ],
   "source": [
    "# Solution to 4.1\n",
    "\n",
    "'''\n",
    "Program to calculate the factorial of a number (n!) using floats as data types\n",
    "\n",
    "Inputs: \n",
    "    n, the number to take the factorial of\n",
    "Outputs:\n",
    "    f, n!\n",
    "    \n",
    "James O. Thomas\n",
    "September 2015\n",
    "'''\n",
    "\n",
    "import numpy as np\n",
    "import math as math\n",
    "\n",
    "def factorial(n):\n",
    "    fact = 1.0\n",
    "    for i in np.arange(1,n+1,1):\n",
    "        fact = fact*i\n",
    "    return fact\n",
    "\n",
    "n = float(input(\"Please input the integer value to calculate the factorial of: \"))\n",
    "\n",
    "n_fact = factorial(n)\n",
    "\n",
    "print(n,'! = ', n_fact)\n",
    "print(n, '! = ', math.factorial(n))"
   ]
  },
  {
   "cell_type": "markdown",
   "metadata": {},
   "source": [
    "When using a floating point variable type, 200! return 'inf' which means that 200! is larger than the maximum allowed number for floats. ie $200! > 10^{308}$. This is what I would expect because a quick google search (as well as math.factorial(200)) has $200! \\approx 7.9 \\times 10^{374}$."
   ]
  },
  {
   "cell_type": "markdown",
   "metadata": {},
   "source": [
    "## Exercise 4.3: Calculating derivatives\n",
    "\n",
    "Syppose we have a function $f(x)$ and we want to calculate its derivative at a point $x$. We can do that with pencil and paper if we know the mathematical form of the function, or we can do it on the computer by making use of the definition of the derivative:\n",
    "\n",
    "$$\\frac{df}{dx} = \\lim_{\\delta \\to 0} \\frac{f(x+\\delta ) - f(x)}{\\delta}$$\n",
    "\n",
    "On the computer we can't actually tke the limit as $\\delta $ goes to zero, but we can get a reasonable approximation just my making $\\delta $ small.\n",
    "\n",
    "a) Write a program that defines a function $f(x)$ returning the value $x(x-1)$, then calculate the derivative of the function at the point $x=1$ using the formula above with $\\delta = 10^{-2}$. Calculate the true value of the same derivative analytically and compare with the answer your program gives. The two will not agree perfectly. Why not?\n",
    "\n",
    "b) repeat the calculation for $\\delta = 10^{-4}, 10^{-6}, 10^{-8}, 10^{-10}, 10^{-12}, 10^{-14}$. You should see that the accuracy of the calculation initially gets better as $\\delta $ gets smaller, but then it gets worse again. Why is this?\n",
    "\n",
    "We will look at numerical derivates in more detail in Section 5.10, where we will study techniques for dealing with these issues and maximizing the accuracy of our calculations."
   ]
  },
  {
   "cell_type": "code",
   "execution_count": 24,
   "metadata": {
    "collapsed": false
   },
   "outputs": [
    {
     "name": "stdout",
     "output_type": "stream",
     "text": [
      "1.010000000000001\n"
     ]
    }
   ],
   "source": [
    "# Solution to Exercise 4.3 a)\n",
    "'''\n",
    "Program to calculate derivatives\n",
    "\n",
    "James O. Thomas\n",
    "September 2015\n",
    "'''\n",
    "\n",
    "import numpy as np\n",
    "\n",
    "def f(x):\n",
    "    return x*(x-1)\n",
    "\n",
    "delta = 1e-2\n",
    "x_val = 1\n",
    "\n",
    "fprime = (f(x_val + delta) - f(x_val))/delta\n",
    "\n",
    "print(fprime)"
   ]
  },
  {
   "cell_type": "markdown",
   "metadata": {},
   "source": [
    "Running the above code returns a value of $f'(1) \\approx 1.01$\n",
    "\n",
    "The analytical derivative:\n",
    "\n",
    "$$f(x) = x(x-1) = x^2 -x $$\n",
    "\n",
    "$$f'(x) = 2x-1 $$\n",
    "\n",
    "$$f'(1) = 2(1) - 1 = 1$$\n",
    "\n",
    "The two do not agree perfectly because of roundoff error associated with the python computed value. We also have a rather large value for $\\delta $."
   ]
  },
  {
   "cell_type": "code",
   "execution_count": 27,
   "metadata": {
    "collapsed": false
   },
   "outputs": [
    {
     "name": "stdout",
     "output_type": "stream",
     "text": [
      "the calculated derivatives\n",
      "[ 1.01        1.0001      1.000001    1.          1.00000008  1.0000889 ]\n",
      "\n",
      "the errors\n",
      "[  1.00000000e-02   9.99999999e-05   9.99917733e-07   3.92252875e-09\n",
      "   8.28403710e-08   8.89005833e-05]\n"
     ]
    }
   ],
   "source": [
    "# Solution to Exercise 4.3 b)\n",
    "'''\n",
    "Program to calculate derivatives\n",
    "\n",
    "James O. Thomas\n",
    "September 2015\n",
    "'''\n",
    "\n",
    "import numpy as np\n",
    "\n",
    "def f(x):\n",
    "    return x*(x-1)\n",
    "\n",
    "delta = np.array([1e-2, 1e-4, 1e-6, 1e-8, 1e-10, 1e-12])\n",
    "x_val = 1\n",
    "\n",
    "fprime = (f(x_val + delta) - f(x_val))/delta\n",
    "error = (fprime - 1)\n",
    "\n",
    "print('the calculated derivatives')\n",
    "print(fprime)\n",
    "print()\n",
    "print('the errors')\n",
    "print(error)"
   ]
  },
  {
   "cell_type": "markdown",
   "metadata": {},
   "source": [
    "The errors initially get better because we are using a smaller and smaller $\\delta $ value. This means that we are mathematically approaching the limit $\\delta \\to 0$. However, the errors get worse eventually because of roundoff errors associated with the $\\delta $ value. Since the $ \\delta $ value appears in the denominator of the definition of the derivative and is approaching 0, any small fluctuations in $\\delta $ will have rather large effects on the derivative."
   ]
  },
  {
   "cell_type": "markdown",
   "metadata": {},
   "source": [
    "## Exercise 4.4: Calculating integrals\n",
    "\n",
    "Suppose we want to calculate the value of the inegral\n",
    "\n",
    "$$I = \\int^1_{-1} \\sqrt{1-x^2}dx $$\n",
    "\n",
    "The integrand looks like a semicircle of radius 1: and hence the value of the inegral-the area under the curve-must be equal to $\\frac{1}{2} \\pi \\approx 1.57079632679 ...$\n",
    "\n",
    "Alternatively, we can evaluate the integral on the computer by dividing the domain of integration into a large number $N$ slices of width $h = 2/N$ each and then using the Riemann definition of the integral:\n",
    "\n",
    "$$I = \\lim_{N \\to \\infty } \\sum^N_{k=1} hy_k $$\n",
    "\n",
    "where\n",
    "\n",
    "$$y_k = \\sqrt{1-x_k^2} \\rm{ and } x_k = -1 + hk $$\n",
    "\n",
    "We cannot in practice take the limit $N \\to \\infty $, but we can make a reasonable approximation by just making $N$ large.\n",
    "\n",
    "a) Write a program to evaluate the integral above with $ N = 100 $ and compare the result with the exact value. The two will not agree very well, because $N=100$ is not a sufficiently large number of slices.\n",
    "\n",
    "b) increase the value of $N$ to get a more accurate value for the integral. if we require that the program runs in about one second or less, how accurate a value can you get?\n",
    "\n",
    "Evaluating integrals is a common task in compuational physics calculations. We will study techniques for doing integrals in detail in the next chapter. As we will see, there are substantially quicker and more accurate methods than the simple one we have used here."
   ]
  },
  {
   "cell_type": "code",
   "execution_count": 6,
   "metadata": {
    "collapsed": false
   },
   "outputs": [
    {
     "name": "stdout",
     "output_type": "stream",
     "text": [
      "the calculated value is:  1.57079475434\n",
      "the absolute error is:  -1.57245935406e-06\n",
      "the percent error is:  3.3368623868e-05\n"
     ]
    }
   ],
   "source": [
    "# solution to exercise 4.4\n",
    "'''\n",
    "Program to calculate the integral of a semicircle of radius 1\n",
    "\n",
    "James O. Thomas\n",
    "September 2015\n",
    "'''\n",
    "\n",
    "import numpy as np\n",
    "import matplotlib.pyplot as plt\n",
    "\n",
    "steps = 1e6\n",
    "width = 2.0/steps\n",
    "\n",
    "x = np.linspace(-1,1,steps)  # linspace includes both endpoints \n",
    "y = np.sqrt(1-x**2)\n",
    "\n",
    "'''\n",
    "plt.figure()\n",
    "plt.plot(x,y)\n",
    "plt.show()\n",
    "'''\n",
    "\n",
    "I = 0.0\n",
    "for i in y:\n",
    "    I = I + i*width\n",
    "    \n",
    "print('the calculated value is: ',I)\n",
    "print('the absolute error is: ', I - 0.5*np.pi)\n",
    "print('the percent error is: ', abs((I-0.5*np.pi)/(1.5*np.pi)*100))"
   ]
  },
  {
   "cell_type": "markdown",
   "metadata": {},
   "source": [
    "Part a) I get a percent error of around 0.37% when I use $N=100$.\n",
    "\n",
    "Part b) For the code to run in about 1 second, I can use $10^{6}$ steps on my machine. With this number of steps I get an absolute error of around $10^{-6}$, and a percent error of about $3.3 \\times 10^{-5}$. If I wanted to use this as part of a larger work, I would probably want to decrease the percent error down to about 1 part in a million or so, maybe more."
   ]
  },
  {
   "cell_type": "code",
   "execution_count": null,
   "metadata": {
    "collapsed": true
   },
   "outputs": [],
   "source": []
  }
 ],
 "metadata": {
  "kernelspec": {
   "display_name": "Python 3",
   "language": "python",
   "name": "python3"
  },
  "language_info": {
   "codemirror_mode": {
    "name": "ipython",
    "version": 3
   },
   "file_extension": ".py",
   "mimetype": "text/x-python",
   "name": "python",
   "nbconvert_exporter": "python",
   "pygments_lexer": "ipython3",
   "version": "3.4.3"
  }
 },
 "nbformat": 4,
 "nbformat_minor": 0
}
