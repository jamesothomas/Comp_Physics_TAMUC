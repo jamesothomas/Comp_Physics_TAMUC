{
 "cells": [
  {
   "cell_type": "code",
   "execution_count": 4,
   "metadata": {
    "collapsed": true
   },
   "outputs": [],
   "source": [
    "%matplotlib inline"
   ]
  },
  {
   "cell_type": "markdown",
   "metadata": {},
   "source": [
    "#Chapter 5 Homework\n",
    "\n",
    "## Computational Physics\n",
    "\n",
    "## James O. Thomas"
   ]
  },
  {
   "cell_type": "markdown",
   "metadata": {
    "collapsed": true
   },
   "source": [
    "## Exercise 5.1:\n",
    "\n",
    "In the on-line resources you will find a file called velocities.txt, which contains two columns of numbers, the first representing time $t$ in seconds and the second the $x$-velocities in meters per second of a particle, measured once every second from $ t = 0 $ to $t=100$. Write a program to do the following:\n",
    "\n",
    "a) Read in the data and, using the trapezoidal rule, calculate from the approximate distance traveled by the particle in the $x$ direction as a function of time. See Section 2.4.3 on page 57 if you want a reminder of how to read data from a file.\n",
    "\n",
    "b) Extend your program to make a graph that shows, on the same plot, both the original velocity curve and the distance traveled as a function of time."
   ]
  },
  {
   "cell_type": "code",
   "execution_count": 3,
   "metadata": {
    "collapsed": false
   },
   "outputs": [
    {
     "name": "stdout",
     "output_type": "stream",
     "text": [
      "the final is approximately  8.218924\n"
     ]
    }
   ],
   "source": [
    "# Solution to Exercise 5.1\n",
    "'''\n",
    "Program to calculate the distance traveled (in 1 dimensiton) of a particle\n",
    "Input:\n",
    "    velocity as a function of time from velocities.txt\n",
    "Output\n",
    "    distance traveled\n",
    "    \n",
    "James O. Thomas\n",
    "September 2015\n",
    "'''\n",
    "\n",
    "import numpy as np\n",
    "import matplotlib.pylab as plt\n",
    "\n",
    "times, velocities = np.loadtxt('velocities.txt', unpack = True)\n",
    "\n",
    "a = times[0]          # as defined in the problem\n",
    "B = times[len(times)-1]\n",
    "N = len(times)-1\n",
    "h = (B-a)/N\n",
    "\n",
    "def JIntegrate(b):\n",
    "    I = 0.5*velocities[0] + 0.5* velocities[b]\n",
    "    for i in range(1,b):\n",
    "        I = I + velocities[i]\n",
    "    return I\n",
    "\n",
    "\n",
    "X100 = JIntegrate(len(velocities)-1)\n",
    "print('the final is approximately ', X100)"
   ]
  },
  {
   "cell_type": "markdown",
   "metadata": {},
   "source": [
    "## Solution to 5.1 a)\n",
    "\n",
    "Running the above code yields a final position of about 8.2 meters."
   ]
  },
  {
   "cell_type": "code",
   "execution_count": 17,
   "metadata": {
    "collapsed": false
   },
   "outputs": [
    {
     "data": {
      "text/plain": [
       "[]"
      ]
     },
     "execution_count": 17,
     "metadata": {},
     "output_type": "execute_result"
    },
    {
     "data": {
      "image/png": "[encoded data removed]",
      "text/plain": [
       "<matplotlib.figure.Figure at 0xaed08f2c>"
      ]
     },
     "metadata": {},
     "output_type": "display_data"
    }
   ],
   "source": [
    "# Solution to Exercise 5.1\n",
    "'''\n",
    "Program to calculate the distance traveled (in 1 dimensiton) of a particle\n",
    "Input:\n",
    "    velocity as a function of time from velocities.txt\n",
    "Output\n",
    "    distance traveled\n",
    "    \n",
    "James O. Thomas\n",
    "September 2015\n",
    "'''\n",
    "\n",
    "import numpy as np\n",
    "import matplotlib.pylab as plt\n",
    "\n",
    "times, velocities = np.loadtxt('velocities.txt', unpack = True)\n",
    "\n",
    "a = times[0]          # as defined in the problem\n",
    "B = times[len(times)-1]\n",
    "N = len(times)-1\n",
    "h = (B-a)/N\n",
    "\n",
    "def JIntegrate(b):\n",
    "    I = 0.5*velocities[0] + 0.5* velocities[b]\n",
    "    for i in range(1,b):\n",
    "        I = I + velocities[i]\n",
    "    return I\n",
    "\n",
    "Xs = np.empty(len(times))\n",
    "i = 0\n",
    "for t in times:\n",
    "    Xs[i]=JIntegrate(int(t))\n",
    "    i = i + 1\n",
    "    \n",
    "\n",
    "plt.figure()\n",
    "plt.plot(times,velocities, label = 'Velocity [m/s]')\n",
    "plt.plot(times,Xs, label = 'Position [m]')\n",
    "plt.xlabel('time [s]')\n",
    "plt.ylabel('Velocity or Position')\n",
    "plt.title('Integration example')\n",
    "plt.legend()\n",
    "plt.plot()"
   ]
  },
  {
   "cell_type": "markdown",
   "metadata": {},
   "source": [
    "##Exercise 5.2: \n",
    "\n",
    "a) Write a program to calculate the value for the integral $\\int^2_0 \\left( x^4 - 2x +1 \\right) dx $ from Example 5.1, but using Simpson's rule with 10 slices instead of the trapezoidal rule. you may wish to base your program on the trapezoidal rule program on page 142.\n",
    "\n",
    "b) Run the program and compare your result to the known corret value of 4.4. What is the fractional error on your calculation?\n",
    "\n",
    "c) Modify the program to use a hundred slices instead, then a thousand. Note the improvement in the result. How do the results compare with those from Example 5.1 for the trapezoidal rule with the same numbers of slices?"
   ]
  },
  {
   "cell_type": "code",
   "execution_count": 4,
   "metadata": {
    "collapsed": false
   },
   "outputs": [
    {
     "name": "stdout",
     "output_type": "stream",
     "text": [
      "the approximate value of the integral is  4.400000000004266\n",
      "the percent error is  9.695274885953866e-11\n"
     ]
    }
   ],
   "source": [
    "# Solution to exercise 5.2\n",
    "\n",
    "'''\n",
    "James O. Thomas\n",
    "September 2015\n",
    "'''\n",
    "\n",
    "import numpy as np\n",
    "import matplotlib.pylab as plt\n",
    "\n",
    "def f(x):\n",
    "    return x**4 - 2*x + 1\n",
    "\n",
    "N = 1000\n",
    "a = 0.0\n",
    "b = 2.0\n",
    "h = (b-a)/N\n",
    "\n",
    "I = f(a) + f(b)\n",
    "for k in range(1,N,2):\n",
    "    I = I + 4*f(a+k*h)\n",
    "for k in range(2,N,2):\n",
    "    I = I + 2*f(a+k*h)\n",
    "    \n",
    "I = 1./3.*h*I\n",
    "error = abs((4.4-I)/4.4*100)\n",
    "\n",
    "print('the approximate value of the integral is ',I)\n",
    "print('the percent error is ', error)"
   ]
  },
  {
   "cell_type": "markdown",
   "metadata": {},
   "source": [
    "## Solution to 5.2\n",
    "\n",
    "* When I run the code for 10 steps I get a solution of about 4.4004. The percent error is about 0.01% which is significantly better than the 2% error found using the trapezoidal rule.\n",
    "\n",
    "* When I run the code for 100 steps I get a solution of 4.1000000427. The percent error is aobut $1 \\times 10^{-6}$ which is about 4 orders of magnitude better than the solution found using the trapezoidal rule.\n",
    "\n",
    "* When I run the code for 1000 steps I get a percent error of about $1 \\times 10^{-10}$ which is about 7 orders of magnitude better than the solution found using the trapezoidal rule.\n",
    "\n",
    "These results indicate that using Simpson's rule to approximate integrals yields significantly better results for the same number of steps than using the trapezoidal rule. "
   ]
  },
  {
   "cell_type": "markdown",
   "metadata": {},
   "source": [
    "## Exercise 5.3:\n",
    "\n",
    "Consider the integral\n",
    "\n",
    "$$E(x) = \\int^x_0 e^{-t^2} dt.$$\n",
    "\n",
    "a) Write a program to calculate $E(x)$ for values of $x$ from 0 to 3 in steps of 0.1. Choose for yourself what method you will use for performing the integral and a suitable number of slices.\n",
    "\n",
    "b) When you are convinced your program is working, extend it further to make a graph of $E(x)$ as a function of $x$. If you want to remind yourself of how to make a graph, you should consult Section 3.1, starting of page 88.\n",
    "\n",
    "Note that there is no known way to perform this particular integral analytically, so numerical approaches are the only way forward."
   ]
  },
  {
   "cell_type": "code",
   "execution_count": 8,
   "metadata": {
    "collapsed": false
   },
   "outputs": [
    {
     "data": {
      "text/plain": [
       "<matplotlib.figure.Figure at 0xb627f76c>"
      ]
     },
     "execution_count": 8,
     "metadata": {},
     "output_type": "execute_result"
    },
    {
     "data": {
      "image/png": "[encoded data removed]",
      "text/plain": [
       "<matplotlib.figure.Figure at 0xaedf404c>"
      ]
     },
     "metadata": {},
     "output_type": "display_data"
    },
    {
     "data": {
      "text/plain": [
       "<matplotlib.figure.Figure at 0xb627f76c>"
      ]
     },
     "metadata": {},
     "output_type": "display_data"
    }
   ],
   "source": [
    "# Solution to 5.3\n",
    "'''\n",
    "James O. Thomas\n",
    "September 2015\n",
    "'''\n",
    "\n",
    "import numpy as np\n",
    "import matplotlib.pylab as plt\n",
    "\n",
    "def f(t):\n",
    "    return np.exp(-t*t)\n",
    "\n",
    "def JIntegrate(b):\n",
    "    # performs the integration according to Simpson's rule\n",
    "    a = 0.0\n",
    "    N = 1000\n",
    "    h = (b-a)/N\n",
    "    I = f(a) + f(b)\n",
    "    for k in range(1,N,2):\n",
    "        I = I + 4*f(a+k*h)\n",
    "    for k in range(2,N,2):\n",
    "        I = I + 2*f(a+k*h)\n",
    "    I = 1./3.*h*I\n",
    "    return I\n",
    "\n",
    "Xs = np.arange(0,3.1,0.1)\n",
    "Es = JIntegrate(Xs)\n",
    "\n",
    "plt.figure()\n",
    "plt.plot(Xs,Es)\n",
    "plt.xlabel('x')\n",
    "plt.ylabel('E(x)')\n",
    "plt.title('scaled error function')\n",
    "plt.figure()"
   ]
  },
  {
   "cell_type": "markdown",
   "metadata": {},
   "source": [
    "## Solution to 5.3\n",
    "\n",
    "This problem can be compared with known values by noticing that the given integral closely resembles the error function. \n",
    "\n",
    "$$erf(x) = \\frac{2}{\\sqrt{ \\pi }} \\int_0 ^x e^{-t^2}dt $$\n",
    "\n",
    "The only difference is the factor of $\\frac{2}{\\sqrt{ \\pi }}$ in the beginning. This means that the answers found here should resemble a scaled version of the error function.\n",
    "\n",
    "a) I chose 1000 slices in order to make the program run quickly on my computer. More slices could be used if necessary.\n",
    "\n",
    "b) The graph resembles the right half of the error function."
   ]
  },
  {
   "cell_type": "markdown",
   "metadata": {},
   "source": [
    "## Exercise 5.9: Heat capacity of a solid\n",
    "\n",
    "Debye's theory of solids gives the heat capacity of a solid at temperature $T$ to be\n",
    "\n",
    "$$ C_v = 9V\\rho k_B \\left( \\frac{T}{\\theta _D} \\right) ^3 \\int_0^{\\theta _D/T} \\frac{x^4e^x}{(e^x-1)^2}dx $$\n",
    "\n",
    "where $V$ is the volume of the solid, $\\rho $ is the number density of atoms, $k_B$ is Boltzmann's constant, and $\\theta _D$ is the so-called *Debye temperature*, a property of solids that depends on their density and speed of sound.\n",
    "\n",
    "a) Write a Python function cv(T) that calculates $C_V$ for a given value of the temperature, for a sample consisting of 1000 cubic centimeters of solid aluminum, which has a number density of $\\rho = 6.022 \\times 10^{28} \\rm{m} ^{-3}$ and a Debye temperature of $\\theta _D = 428 K$. use Gaussian quadruture to evaluate the integral, with $N=50$ sample points.\n",
    "\n",
    "b) use your function to make a graph of the heat capacity as a function of temperature from $T=5$K to $T=500$K."
   ]
  },
  {
   "cell_type": "code",
   "execution_count": 20,
   "metadata": {
    "collapsed": false
   },
   "outputs": [
    {
     "data": {
      "image/png": "[encoded data removed]",
      "text/plain": [
       "<matplotlib.figure.Figure at 0xac240f8c>"
      ]
     },
     "metadata": {},
     "output_type": "display_data"
    }
   ],
   "source": [
    "# Solution to 5.9\n",
    "'''\n",
    "James O. Thomas\n",
    "September 2015\n",
    "'''\n",
    "\n",
    "import numpy as np\n",
    "import matplotlib.pylab as plt\n",
    "import scipy.integrate as integrate\n",
    "\n",
    "V = 1000/100**3  # m^3 volume\n",
    "rho = 6.022e28   # number density of aluminum\n",
    "k_b = 1.380648813e-23   # j/K boltzman constant from wikipedia\n",
    "theta_D = 428    # K\n",
    "\n",
    "def cv(T):\n",
    "    a = 9*V*rho*k_b*(T/theta_D)**3\n",
    "    b, err = integrate.quad(lambda x: x**4*np.exp(x)/(np.exp(x)-1)**2, 0, theta_D/T)\n",
    "    return a*b\n",
    "\n",
    "Ts = np.arange(5,501,1)\n",
    "CVs = np.empty(len(Ts))\n",
    "\n",
    "# CVs = cv(Ts) # issue with integrate.quad\n",
    "\n",
    "i = 0\n",
    "for T in Ts:\n",
    "    CVs[i] = cv(T)\n",
    "    i = i + 1\n",
    "\n",
    "plt.figure()\n",
    "plt.plot(Ts,CVs)\n",
    "plt.xlabel('Temperature [K]')\n",
    "plt.ylabel('Cv [j/K]')\n",
    "plt.title('Heat Capacity of aluminum calculated according  \\n to the Debye theory of solids')\n",
    "plt.show()"
   ]
  },
  {
   "cell_type": "markdown",
   "metadata": {},
   "source": [
    "## Solution to 5.9\n",
    "\n",
    "The above code generates the heat capacity for aluminum. It is notable that the array of Cvs cannot be filled as a vectory because of an issue with integrate.quad checking for infinite limits. Therefore I filled the array using a loop."
   ]
  },
  {
   "cell_type": "markdown",
   "metadata": {},
   "source": [
    "## Exercise 5.12: the Stefan-Boltzmann constant\n",
    "\n",
    "The Planck theory of thermal radiation tells us that in the (angular) frequency interval $\\omega $ to $\\omega + d\\omega $, a black body of unit area radiates electromagnetically an amount of thermal evergy per socond equal to $I(\\omega ) d\\omega $, where\n",
    "\n",
    "$$I(\\omega ) = \\frac{\\hbar }{4 \\pi ^2 c^2} \\frac{\\omega ^3}{\\left( e^{\\hbar \\omega / k_BT} -1 \\right)}$$\n",
    "\n",
    "Here $\\hbar $ is Planck's constant over $2 \\pi $, $c$ is the speed of light, and $k_B$ is Boltzmann's constant.\n",
    "\n",
    "a) Show that the total energy per unit area radiated by a black body is \n",
    "\n",
    "$$W = \\frac{k_B^4T^4}{4 \\pi ^2c^2 \\hbar ^3} \\int_0^\\infty \\frac{x^3}{e^x-1}dx$$\n",
    "\n",
    "b) Write a program to evaluate the integral in this expression. Explain what method you used, and how accurate you think your answer is.\n",
    "\n",
    "c) Even before Planck gave his thoery of thermal radiation around the turn of the 20th century, it was known that th total energy $W$ given off by a black body per unit area per second followed Stefan's law: $W = \\sigma T^4$, where $\\sigma $ is the Stefan-Boltzmann constant. Use your value for the integral above to compute a value for the Stefan-Boltzmann constant (in SI units) to three significant figures. Check your result against the nown value, which you can find in books or on-line. you should get good agreement."
   ]
  },
  {
   "cell_type": "markdown",
   "metadata": {},
   "source": [
    "## Solution to 5.12 a)\n",
    "\n",
    "The total energy per unit area radiated by the black body is given by:\n",
    "\n",
    "$$W = \\int_0^\\infty I(\\omega ) d\\omega $$\n",
    "\n",
    "$$W = \\int_0^\\infty \\frac{\\hbar }{4 \\pi ^2 c^2} \\frac{\\omega ^3}{e^{\\hbar \\omega / k_B T} - 1} d \\omega $$\n",
    "\n",
    "$$W = \\frac{\\hbar }{4 \\pi ^2 c^2} \\int_0^\\infty \\frac{\\omega ^3}{e^{\\hbar \\omega / k_B T} - 1} d \\omega $$\n",
    "\n",
    "now we make a change of variables\n",
    "\n",
    "$$x = \\frac{\\hbar \\omega }{k_B T} \\rightarrow \\omega = \\frac{xk_BT}{\\hbar }$$\n",
    "\n",
    "$$ d\\omega = \\frac{k_BT}{\\hbar }dx$$\n",
    "\n",
    "The limits of integration stay the same becasuse $\\omega \\rightarrow \\infty $ as $ x \\rightarrow \\infty $ and $\\omega \\rightarrow 0 $ as $ x \\rightarrow 0$. Plugging all of this in\n",
    "\n",
    "$$ W = \\frac{\\hbar }{4 \\pi ^2 c ^2} \\int_0^\\infty \\frac{(xk_BT/\\hbar )^3}{e^x-1} \\frac{k_BT}{\\hbar } dx$$\n",
    "\n",
    "combining all of the constants we get\n",
    "\n",
    "$$ W = \\frac{k_B^4T^4}{4 \\pi ^2 c^2 \\hbar ^3} \\int_0^\\infty \\frac{x^3}{e^x - 1} dx$$\n",
    "\n",
    "which is exactly what we were looking for."
   ]
  },
  {
   "cell_type": "code",
   "execution_count": 32,
   "metadata": {
    "collapsed": false
   },
   "outputs": [
    {
     "name": "stdout",
     "output_type": "stream",
     "text": [
      "the exact solution is  6.493939402266828\n",
      "the appriximated integral is  6.49393940243\n",
      "the percent error is  2.56597604866e-09 %\n"
     ]
    }
   ],
   "source": [
    "## Solution to 5.12 b)\n",
    "'''\n",
    "James O. Thomas\n",
    "September 2015\n",
    "'''\n",
    "\n",
    "import numpy as np\n",
    "import matplotlib.pylab as plt\n",
    "\n",
    "k_B = 1.380648813e-23    # j/K from wikipedia\n",
    "c = 299792458            # m/s\n",
    "hbar = 1.05457180013e-34 # J*s from wikipedia\n",
    "\n",
    "exact = np.pi**4/15\n",
    "\n",
    "def Integrand(x):\n",
    "    return x**3/(np.exp(x)-1)\n",
    "\n",
    "\n",
    "# performs the integration according to Simpson's rule\n",
    "a = 1e-6       # cant start at 0 bacuase that makes the integrand undefined\n",
    "b = 1e4\n",
    "N = int(1e6)\n",
    "h = (b-a)/N\n",
    "I = Integrand(a) + Integrand(b)\n",
    "for k in range(1,N,2):\n",
    "    I = I + 4*Integrand(a+k*h)\n",
    "for k in range(2,N,2):\n",
    "    I = I + 2*Integrand(a+k*h)\n",
    "I = 1./3.*h*I\n",
    "\n",
    "ans = I\n",
    "\n",
    "error = exact - ans\n",
    "\n",
    "frac_error = abs(error)/exact*100\n",
    "\n",
    "print('the exact solution is ', exact)\n",
    "print('the appriximated integral is ', ans)\n",
    "print('the percent error is ', frac_error, '%')"
   ]
  },
  {
   "cell_type": "markdown",
   "metadata": {},
   "source": [
    "## solution to 5.12 b)\n",
    "\n",
    "I chose to use Simpson's method to evaluate the integral from part a). I set the upper limit to 10000 instead of infinity (since any contributions from higher $x$ values are small) and used $10^6$ steps. This gives me an answer that is within a few parts per billion of the analytical solution."
   ]
  },
  {
   "cell_type": "code",
   "execution_count": 18,
   "metadata": {
    "collapsed": false
   },
   "outputs": [
    {
     "name": "stdout",
     "output_type": "stream",
     "text": [
      "the calculated value for the Stephan-Boltzman constant is  5.67037162982e-08\n",
      "the percent error is  2.78673351809e-05 %\n"
     ]
    }
   ],
   "source": [
    "# Solution to 5.12 c)\n",
    "'''\n",
    "James O. Thomas\n",
    "September 2015\n",
    "'''\n",
    "\n",
    "import numpy as np\n",
    "import matplotlib.pylab as plt\n",
    "\n",
    "k_B = 1.380648813e-23    # j/K from wikipedia\n",
    "c = 299792458            # m/s\n",
    "hbar = 1.05457180013e-34 # J*s from wikipedia\n",
    "\n",
    "exact = np.pi**4/15\n",
    "sigma_known = 5.67037321e-8 # W/m^2/K^4 from wikipedia\n",
    "\n",
    "def Integrand(x):\n",
    "    return x**3/(np.exp(x)-1)\n",
    "\n",
    "\n",
    "# performs the integration according to Simpson's rule\n",
    "a = 1e-6       # cant start at 0 bacuase that makes the integrand undefined\n",
    "b = 1e4\n",
    "N = int(1e6)\n",
    "h = (b-a)/N\n",
    "I = Integrand(a) + Integrand(b)\n",
    "for k in range(1,N,2):\n",
    "    I = I + 4*Integrand(a+k*h)\n",
    "for k in range(2,N,2):\n",
    "    I = I + 2*Integrand(a+k*h)\n",
    "I = 1./3.*h*I\n",
    "\n",
    "sigma_calc = k_B**4/(4*np.pi**2*c**2*hbar**3)*I\n",
    "percent_error = abs(sigma_calc-sigma_known)/sigma_known*100\n",
    "\n",
    "print('the calculated value for the Stephan-Boltzman constant is ', sigma_calc)\n",
    "print('the percent error is ', percent_error, '%')"
   ]
  },
  {
   "cell_type": "markdown",
   "metadata": {},
   "source": [
    "Using the value of the integral calculate in python, I get a value for the Stephan-Boltzmann constant of $\\sigma \\approx 5.67 \\times 10^{-8}$ To three significant figures, this matches the accepted value for the Stephan-Boltzmann constant as found on wikipedia. "
   ]
  },
  {
   "cell_type": "markdown",
   "metadata": {},
   "source": [
    "## Exercise 5.15: \n",
    "\n",
    "Create a user-defined function f(x) that returns the value $1 + \\frac{1}{2}\\rm{tanh}2x$, then use a central difference to calculate the derivative of the function in the range $-2 \\le x \\le 2$. Calculate an analytic formula for the derivative and make a graph with your numerical result and the analytic answer on the same plot. It may help to plot the exact answer as lines and the numerical ones as dots. (Hint: In Python the tanh function is found in the math package, and its called simply tanh.)"
   ]
  },
  {
   "cell_type": "code",
   "execution_count": 15,
   "metadata": {
    "collapsed": false
   },
   "outputs": [
    {
     "data": {
      "image/png": "[encoded data removed]",
      "text/plain": [
       "<matplotlib.figure.Figure at 0xaedf170c>"
      ]
     },
     "metadata": {},
     "output_type": "display_data"
    }
   ],
   "source": [
    "# Solution to exercise 5.15\n",
    "'''\n",
    "James O. Thomas\n",
    "September 2015\n",
    "'''\n",
    "\n",
    "import numpy as np\n",
    "import matplotlib.pylab as plt\n",
    "\n",
    "def f(x):\n",
    "    return 1 + 0.5*np.tanh(2*x)\n",
    "\n",
    "# analytic derivative \n",
    "xas = np.arange(-2,2.01,0.01)\n",
    "analytic_derivative = (1/np.cosh(2*xas))**2\n",
    "\n",
    "# central difference  \n",
    "stepsize = 0.1\n",
    "xs = np.arange(-2,2.+stepsize,stepsize)\n",
    "derivative = np.zeros(len(xs))\n",
    "\n",
    "for i in range(1,len(xs)-1):\n",
    "    derivative[i]=(f(xs[i+1]) - f(xs[i-1]))/(2*stepsize)\n",
    "    \n",
    "stepsize2 = 0.25\n",
    "xs2 = np.arange(-2,2.25,0.25)\n",
    "derivative2 = np.zeros(len(xs2))\n",
    "\n",
    "for i in range(1,len(xs2)-1):\n",
    "    derivative2[i]=(f(xs2[i+1])-f(xs2[i-1]))/(2*stepsize2)\n",
    "    \n",
    "stepsize3 = 0.5\n",
    "xs3 = np.arange(-2,2.5,0.5)\n",
    "derivative3 = np.zeros(len(xs3))\n",
    "\n",
    "for i in range(1,len(xs3)-1):\n",
    "    derivative3[i]=(f(xs3[i+1])-f(xs3[i-1]))/(2*stepsize3)\n",
    "    \n",
    "plt.figure()\n",
    "plt.plot(xas,analytic_derivative,'b-', label = 'analytic')\n",
    "plt.plot(xs,derivative, 'ro', label = 'stepsize = 0.1')\n",
    "plt.plot(xs2,derivative2, 'r*', label = 'stepsize = 0.25')\n",
    "plt.plot(xs3,derivative3, 'r^', label = 'stepsize = 0.5')\n",
    "plt.legend()\n",
    "plt.xlim(-2,2)\n",
    "plt.title('Analytic derivative vs central difference derivative')\n",
    "plt.show()"
   ]
  },
  {
   "cell_type": "markdown",
   "metadata": {
    "collapsed": true
   },
   "source": [
    "To calculate the analytic derivative, we note that $\\frac{d}{dx}tanhx = sech^2x$ and use the chain rule.\n",
    "\n",
    "$$\\frac{d}{dx} \\left( 1+tanh(2x) \\right) = \\frac{1}{2}sech^2(2x)2 = sech^2(2x)$$\n",
    "\n",
    "noting that $sech(x) = 1/cosh(x)$ we are able to write the analytic derivative as\n",
    "\n",
    "$$\\frac{d}{dx} \\left( 1+tanh(2x) \\right) = sech^2(2x) = \\left( \\frac{1}{cosh(2x)} \\right)^2$$\n",
    "\n",
    "Or we could have simply put it into mathematica or wolframalpha.com\n",
    "\n",
    "It is clear from the above graph that when using a stepsize of 0.1, the analytic derivative matches the derivative found using the central difference formula quite well. Larger stepsizes will result in the results from the two methods will start to diverge, especially near where the function is changing the quickest (around $x=0$ in this case)."
   ]
  },
  {
   "cell_type": "code",
   "execution_count": null,
   "metadata": {
    "collapsed": true
   },
   "outputs": [],
   "source": []
  }
 ],
 "metadata": {
  "kernelspec": {
   "display_name": "Python 3",
   "language": "python",
   "name": "python3"
  },
  "language_info": {
   "codemirror_mode": {
    "name": "ipython",
    "version": 3
   },
   "file_extension": ".py",
   "mimetype": "text/x-python",
   "name": "python",
   "nbconvert_exporter": "python",
   "pygments_lexer": "ipython3",
   "version": "3.4.3"
  }
 },
 "nbformat": 4,
 "nbformat_minor": 0
}
